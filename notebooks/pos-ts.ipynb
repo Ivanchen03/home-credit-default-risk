{
 "cells": [
  {
   "cell_type": "markdown",
   "metadata": {},
   "source": [
    "## Pos-cash balance time series feature extraction\n",
    "Train GRU network on pos-cash balance time series data. Save prediction to be used as features in final training."
   ]
  },
  {
   "cell_type": "code",
   "execution_count": 1,
   "metadata": {
    "_cell_guid": "b1076dfc-b9ad-4769-8c92-a6c4dae69d19",
    "_uuid": "8f2839f25d086af736a60e9eeb907d3b93b6e0e5"
   },
   "outputs": [
    {
     "name": "stdout",
     "output_type": "stream",
     "text": [
      "['download_command.txt', 'application_test.csv', 'HomeCredit_columns_description.csv', 'POS_CASH_balance.csv', 'credit_card_balance.csv', 'installments_payments.csv', 'application_train.csv', 'bureau.csv', 'previous_application.csv', 'bureau_balance.csv', 'sample_submission.csv']\n"
     ]
    }
   ],
   "source": [
    "import pandas as pd\n",
    "import numpy as np\n",
    "\n",
    "from sklearn.linear_model import LinearRegression, Ridge\n",
    "from sklearn.metrics import roc_auc_score, roc_curve\n",
    "from sklearn.model_selection import KFold, StratifiedKFold, train_test_split\n",
    "from sklearn.preprocessing import StandardScaler, MinMaxScaler, MaxAbsScaler\n",
    "import gc\n",
    "\n",
    "import os\n",
    "print(os.listdir(\"../input\"))\n",
    "    \n",
    "gc.enable()"
   ]
  },
  {
   "cell_type": "markdown",
   "metadata": {
    "_uuid": "eb29426ef66ee8c8719e75bc4a6318ec1fc39f2b",
    "collapsed": true
   },
   "source": [
    "Read pos-cash balance and create features."
   ]
  },
  {
   "cell_type": "code",
   "execution_count": 2,
   "metadata": {
    "_uuid": "9024c6dc89d6ea7d64b553236d73fe9a672ba899"
   },
   "outputs": [],
   "source": [
    "pos = pd.read_csv('../input/POS_CASH_balance.csv')\n",
    "pos = pd.concat([pos, pd.get_dummies(pos['NAME_CONTRACT_STATUS'], prefix='NAME_CONTRACT_STATUS')], axis=1)\n",
    "pos['CNT_INSTALMENT']/=10\n",
    "pos['CNT_INSTALMENT_FUTURE']/=10\n",
    "del pos['NAME_CONTRACT_STATUS']"
   ]
  },
  {
   "cell_type": "markdown",
   "metadata": {},
   "source": [
    "Read target from main table."
   ]
  },
  {
   "cell_type": "code",
   "execution_count": 3,
   "metadata": {
    "_uuid": "3ba57fe82d915842f663fc21409af9f0ffc1abf8"
   },
   "outputs": [
    {
     "data": {
      "text/plain": [
       "((307511, 2), (48744, 1))"
      ]
     },
     "execution_count": 3,
     "metadata": {},
     "output_type": "execute_result"
    }
   ],
   "source": [
    "data_app = pd.read_csv('../input/application_train.csv',usecols=['SK_ID_CURR','TARGET'])\n",
    "data_test = pd.read_csv('../input/application_test.csv',usecols=['SK_ID_CURR'])\n",
    "data_app.shape, data_test.shape"
   ]
  },
  {
   "cell_type": "code",
   "execution_count": 4,
   "metadata": {
    "_uuid": "f9bbf170359e06f5c1bc257cc54e027cc396abb3"
   },
   "outputs": [
    {
     "data": {
      "text/plain": [
       "((289444,), (47808,))"
      ]
     },
     "execution_count": 4,
     "metadata": {},
     "output_type": "execute_result"
    }
   ],
   "source": [
    "trn_id = data_app['SK_ID_CURR'].loc[data_app.SK_ID_CURR.isin(pos.SK_ID_CURR)]\n",
    "test_id = data_test['SK_ID_CURR'].loc[data_test['SK_ID_CURR'].isin(pos.SK_ID_CURR)]\n",
    "trn_id.shape, test_id.shape"
   ]
  },
  {
   "cell_type": "markdown",
   "metadata": {},
   "source": [
    "Split train and test set. Group by ID and month to create time series."
   ]
  },
  {
   "cell_type": "code",
   "execution_count": 5,
   "metadata": {
    "_uuid": "0c6a308c58c959d41ba6fdaa9492133bfc5d0489"
   },
   "outputs": [
    {
     "data": {
      "text/html": [
       "<div>\n",
       "<style scoped>\n",
       "    .dataframe tbody tr th:only-of-type {\n",
       "        vertical-align: middle;\n",
       "    }\n",
       "\n",
       "    .dataframe tbody tr th {\n",
       "        vertical-align: top;\n",
       "    }\n",
       "\n",
       "    .dataframe thead th {\n",
       "        text-align: right;\n",
       "    }\n",
       "</style>\n",
       "<table border=\"1\" class=\"dataframe\">\n",
       "  <thead>\n",
       "    <tr style=\"text-align: right;\">\n",
       "      <th></th>\n",
       "      <th></th>\n",
       "      <th>SK_ID_PREV_COUNT</th>\n",
       "      <th>CNT_INSTALMENT_SUM</th>\n",
       "      <th>CNT_INSTALMENT_MAX</th>\n",
       "      <th>CNT_INSTALMENT_MEAN</th>\n",
       "      <th>CNT_INSTALMENT_FUTURE_SUM</th>\n",
       "      <th>CNT_INSTALMENT_FUTURE_MAX</th>\n",
       "      <th>CNT_INSTALMENT_FUTURE_MEAN</th>\n",
       "      <th>NAME_CONTRACT_STATUS_Approved_SUM</th>\n",
       "      <th>NAME_CONTRACT_STATUS_Canceled_SUM</th>\n",
       "      <th>NAME_CONTRACT_STATUS_Completed_SUM</th>\n",
       "      <th>NAME_CONTRACT_STATUS_Demand_SUM</th>\n",
       "      <th>NAME_CONTRACT_STATUS_Returned to the store_SUM</th>\n",
       "      <th>NAME_CONTRACT_STATUS_Signed_SUM</th>\n",
       "      <th>NAME_CONTRACT_STATUS_XNA_SUM</th>\n",
       "      <th>SK_DPD_SUM</th>\n",
       "      <th>SK_DPD_MEAN</th>\n",
       "      <th>SK_DPD_DEF_SUM</th>\n",
       "      <th>SK_DPD_DEF_MEAN</th>\n",
       "    </tr>\n",
       "    <tr>\n",
       "      <th>SK_ID_CURR</th>\n",
       "      <th>MONTHS_BALANCE</th>\n",
       "      <th></th>\n",
       "      <th></th>\n",
       "      <th></th>\n",
       "      <th></th>\n",
       "      <th></th>\n",
       "      <th></th>\n",
       "      <th></th>\n",
       "      <th></th>\n",
       "      <th></th>\n",
       "      <th></th>\n",
       "      <th></th>\n",
       "      <th></th>\n",
       "      <th></th>\n",
       "      <th></th>\n",
       "      <th></th>\n",
       "      <th></th>\n",
       "      <th></th>\n",
       "      <th></th>\n",
       "    </tr>\n",
       "  </thead>\n",
       "  <tbody>\n",
       "    <tr>\n",
       "      <th rowspan=\"5\" valign=\"top\">100001</th>\n",
       "      <th>-96</th>\n",
       "      <td>1</td>\n",
       "      <td>0.4</td>\n",
       "      <td>0.4</td>\n",
       "      <td>0.4</td>\n",
       "      <td>0.2</td>\n",
       "      <td>0.2</td>\n",
       "      <td>0.2</td>\n",
       "      <td>0</td>\n",
       "      <td>0</td>\n",
       "      <td>0</td>\n",
       "      <td>0</td>\n",
       "      <td>0</td>\n",
       "      <td>0</td>\n",
       "      <td>0</td>\n",
       "      <td>0</td>\n",
       "      <td>0.0</td>\n",
       "      <td>0</td>\n",
       "      <td>0.0</td>\n",
       "    </tr>\n",
       "    <tr>\n",
       "      <th>-95</th>\n",
       "      <td>1</td>\n",
       "      <td>0.4</td>\n",
       "      <td>0.4</td>\n",
       "      <td>0.4</td>\n",
       "      <td>0.1</td>\n",
       "      <td>0.1</td>\n",
       "      <td>0.1</td>\n",
       "      <td>0</td>\n",
       "      <td>0</td>\n",
       "      <td>0</td>\n",
       "      <td>0</td>\n",
       "      <td>0</td>\n",
       "      <td>0</td>\n",
       "      <td>0</td>\n",
       "      <td>7</td>\n",
       "      <td>7.0</td>\n",
       "      <td>7</td>\n",
       "      <td>7.0</td>\n",
       "    </tr>\n",
       "    <tr>\n",
       "      <th>-94</th>\n",
       "      <td>1</td>\n",
       "      <td>0.4</td>\n",
       "      <td>0.4</td>\n",
       "      <td>0.4</td>\n",
       "      <td>0.0</td>\n",
       "      <td>0.0</td>\n",
       "      <td>0.0</td>\n",
       "      <td>0</td>\n",
       "      <td>0</td>\n",
       "      <td>0</td>\n",
       "      <td>0</td>\n",
       "      <td>0</td>\n",
       "      <td>0</td>\n",
       "      <td>0</td>\n",
       "      <td>0</td>\n",
       "      <td>0.0</td>\n",
       "      <td>0</td>\n",
       "      <td>0.0</td>\n",
       "    </tr>\n",
       "    <tr>\n",
       "      <th>-93</th>\n",
       "      <td>1</td>\n",
       "      <td>0.4</td>\n",
       "      <td>0.4</td>\n",
       "      <td>0.4</td>\n",
       "      <td>0.0</td>\n",
       "      <td>0.0</td>\n",
       "      <td>0.0</td>\n",
       "      <td>0</td>\n",
       "      <td>0</td>\n",
       "      <td>1</td>\n",
       "      <td>0</td>\n",
       "      <td>0</td>\n",
       "      <td>0</td>\n",
       "      <td>0</td>\n",
       "      <td>0</td>\n",
       "      <td>0.0</td>\n",
       "      <td>0</td>\n",
       "      <td>0.0</td>\n",
       "    </tr>\n",
       "    <tr>\n",
       "      <th>-57</th>\n",
       "      <td>1</td>\n",
       "      <td>0.4</td>\n",
       "      <td>0.4</td>\n",
       "      <td>0.4</td>\n",
       "      <td>0.4</td>\n",
       "      <td>0.4</td>\n",
       "      <td>0.4</td>\n",
       "      <td>0</td>\n",
       "      <td>0</td>\n",
       "      <td>0</td>\n",
       "      <td>0</td>\n",
       "      <td>0</td>\n",
       "      <td>0</td>\n",
       "      <td>0</td>\n",
       "      <td>0</td>\n",
       "      <td>0.0</td>\n",
       "      <td>0</td>\n",
       "      <td>0.0</td>\n",
       "    </tr>\n",
       "  </tbody>\n",
       "</table>\n",
       "</div>"
      ],
      "text/plain": [
       "                           SK_ID_PREV_COUNT  CNT_INSTALMENT_SUM  \\\n",
       "SK_ID_CURR MONTHS_BALANCE                                         \n",
       "100001     -96                            1                 0.4   \n",
       "           -95                            1                 0.4   \n",
       "           -94                            1                 0.4   \n",
       "           -93                            1                 0.4   \n",
       "           -57                            1                 0.4   \n",
       "\n",
       "                           CNT_INSTALMENT_MAX  CNT_INSTALMENT_MEAN  \\\n",
       "SK_ID_CURR MONTHS_BALANCE                                            \n",
       "100001     -96                            0.4                  0.4   \n",
       "           -95                            0.4                  0.4   \n",
       "           -94                            0.4                  0.4   \n",
       "           -93                            0.4                  0.4   \n",
       "           -57                            0.4                  0.4   \n",
       "\n",
       "                           CNT_INSTALMENT_FUTURE_SUM  \\\n",
       "SK_ID_CURR MONTHS_BALANCE                              \n",
       "100001     -96                                   0.2   \n",
       "           -95                                   0.1   \n",
       "           -94                                   0.0   \n",
       "           -93                                   0.0   \n",
       "           -57                                   0.4   \n",
       "\n",
       "                           CNT_INSTALMENT_FUTURE_MAX  \\\n",
       "SK_ID_CURR MONTHS_BALANCE                              \n",
       "100001     -96                                   0.2   \n",
       "           -95                                   0.1   \n",
       "           -94                                   0.0   \n",
       "           -93                                   0.0   \n",
       "           -57                                   0.4   \n",
       "\n",
       "                           CNT_INSTALMENT_FUTURE_MEAN  \\\n",
       "SK_ID_CURR MONTHS_BALANCE                               \n",
       "100001     -96                                    0.2   \n",
       "           -95                                    0.1   \n",
       "           -94                                    0.0   \n",
       "           -93                                    0.0   \n",
       "           -57                                    0.4   \n",
       "\n",
       "                           NAME_CONTRACT_STATUS_Approved_SUM  \\\n",
       "SK_ID_CURR MONTHS_BALANCE                                      \n",
       "100001     -96                                             0   \n",
       "           -95                                             0   \n",
       "           -94                                             0   \n",
       "           -93                                             0   \n",
       "           -57                                             0   \n",
       "\n",
       "                           NAME_CONTRACT_STATUS_Canceled_SUM  \\\n",
       "SK_ID_CURR MONTHS_BALANCE                                      \n",
       "100001     -96                                             0   \n",
       "           -95                                             0   \n",
       "           -94                                             0   \n",
       "           -93                                             0   \n",
       "           -57                                             0   \n",
       "\n",
       "                           NAME_CONTRACT_STATUS_Completed_SUM  \\\n",
       "SK_ID_CURR MONTHS_BALANCE                                       \n",
       "100001     -96                                              0   \n",
       "           -95                                              0   \n",
       "           -94                                              0   \n",
       "           -93                                              1   \n",
       "           -57                                              0   \n",
       "\n",
       "                           NAME_CONTRACT_STATUS_Demand_SUM  \\\n",
       "SK_ID_CURR MONTHS_BALANCE                                    \n",
       "100001     -96                                           0   \n",
       "           -95                                           0   \n",
       "           -94                                           0   \n",
       "           -93                                           0   \n",
       "           -57                                           0   \n",
       "\n",
       "                           NAME_CONTRACT_STATUS_Returned to the store_SUM  \\\n",
       "SK_ID_CURR MONTHS_BALANCE                                                   \n",
       "100001     -96                                                          0   \n",
       "           -95                                                          0   \n",
       "           -94                                                          0   \n",
       "           -93                                                          0   \n",
       "           -57                                                          0   \n",
       "\n",
       "                           NAME_CONTRACT_STATUS_Signed_SUM  \\\n",
       "SK_ID_CURR MONTHS_BALANCE                                    \n",
       "100001     -96                                           0   \n",
       "           -95                                           0   \n",
       "           -94                                           0   \n",
       "           -93                                           0   \n",
       "           -57                                           0   \n",
       "\n",
       "                           NAME_CONTRACT_STATUS_XNA_SUM  SK_DPD_SUM  \\\n",
       "SK_ID_CURR MONTHS_BALANCE                                             \n",
       "100001     -96                                        0           0   \n",
       "           -95                                        0           7   \n",
       "           -94                                        0           0   \n",
       "           -93                                        0           0   \n",
       "           -57                                        0           0   \n",
       "\n",
       "                           SK_DPD_MEAN  SK_DPD_DEF_SUM  SK_DPD_DEF_MEAN  \n",
       "SK_ID_CURR MONTHS_BALANCE                                                \n",
       "100001     -96                     0.0               0              0.0  \n",
       "           -95                     7.0               7              7.0  \n",
       "           -94                     0.0               0              0.0  \n",
       "           -93                     0.0               0              0.0  \n",
       "           -57                     0.0               0              0.0  "
      ]
     },
     "execution_count": 5,
     "metadata": {},
     "output_type": "execute_result"
    }
   ],
   "source": [
    "pos_trn = pos.loc[pos.SK_ID_CURR.isin(trn_id)]\n",
    "pos_test = pos.loc[pos.SK_ID_CURR.isin(test_id)]\n",
    "num_aggregations = {\n",
    "    'SK_ID_PREV': ['count'],\n",
    "    'CNT_INSTALMENT': ['sum', 'max', 'mean'],\n",
    "    'CNT_INSTALMENT_FUTURE': ['sum', 'max', 'mean'],\n",
    "    'NAME_CONTRACT_STATUS_Approved': ['sum'],\n",
    "    'NAME_CONTRACT_STATUS_Canceled': ['sum'],\n",
    "    'NAME_CONTRACT_STATUS_Completed': ['sum'],\n",
    "    'NAME_CONTRACT_STATUS_Demand': ['sum'],\n",
    "    'NAME_CONTRACT_STATUS_Returned to the store': ['sum'],\n",
    "    'NAME_CONTRACT_STATUS_Signed': ['sum'],\n",
    "    'NAME_CONTRACT_STATUS_XNA': ['sum'],\n",
    "    'SK_DPD': ['sum', 'mean'],\n",
    "    'SK_DPD_DEF': ['sum', 'mean']\n",
    "}\n",
    "pos_trn = pos_trn.groupby(['SK_ID_CURR','MONTHS_BALANCE']).agg(num_aggregations)\n",
    "pos_test = pos_test.groupby(['SK_ID_CURR','MONTHS_BALANCE']).agg(num_aggregations)\n",
    "pos_trn.columns = pd.Index([e[0] + \"_\" + e[1].upper() for e in pos_trn.columns.tolist()])\n",
    "pos_test.columns = pd.Index([e[0] + \"_\" + e[1].upper() for e in pos_test.columns.tolist()])\n",
    "pos_test.head()"
   ]
  },
  {
   "cell_type": "markdown",
   "metadata": {},
   "source": [
    "Convert dataframe to 3D array (n_sample * n_time_step * n_features) for GRU network training."
   ]
  },
  {
   "cell_type": "code",
   "execution_count": 6,
   "metadata": {
    "_uuid": "cec4687df3722ac66e8b6676321ec5da963b1af0"
   },
   "outputs": [
    {
     "name": "stdout",
     "output_type": "stream",
     "text": [
      "train_x shape: (289444, 96, 18)\n",
      "test_x shape: (47808, 96, 18)\n",
      "train_y shape: (289444,)\n"
     ]
    }
   ],
   "source": [
    "pos_trn.fillna(-9.0, inplace=True)\n",
    "pos_test.fillna(-9.0, inplace=True)\n",
    "# 1. 使用 unstack 将时间序列从索引“解堆”到列，并直接填充缺失值\n",
    "#    level='MONTHS_BALANCE' 指定了要转换的索引层级\n",
    "#    fill_value=-9 在转换过程中一步到位地填充了缺失的时间点\n",
    "train_wide = pos_trn.unstack(level='MONTHS_BALANCE', fill_value=-9)\n",
    "test_wide = pos_test.unstack(level='MONTHS_BALANCE', fill_value=-9)\n",
    "\n",
    "# 2. 获取维度信息，为重塑 (reshape) 做准备\n",
    "n_train_samples = len(train_wide.index)\n",
    "n_test_samples = len(test_wide.index)\n",
    "n_features = len(pos_trn.columns)\n",
    "n_timesteps = len(train_wide.columns) // n_features\n",
    "\n",
    "# 3. 将2D宽数据重塑为3D数组，并交换维度以匹配GRU/LSTM的输入要求\n",
    "#    目标维度: (样本数, 时间步长, 特征数)\n",
    "train_x = train_wide.values.reshape(n_train_samples, n_features, n_timesteps)\n",
    "train_x = np.swapaxes(train_x, 1, 2)\n",
    "\n",
    "test_x = test_wide.values.reshape(n_test_samples, n_features, n_timesteps)\n",
    "test_x = np.swapaxes(test_x, 1, 2)\n",
    "\n",
    "# 4. train_y 的逻辑保持不变\n",
    "#    假设 data_app 和 trn_id 已经定义\n",
    "train_y = data_app['TARGET'].loc[data_app.SK_ID_CURR.isin(trn_id)]\n",
    "\n",
    "# 5. 打印形状以验证\n",
    "print(\"train_x shape:\", train_x.shape)\n",
    "print(\"test_x shape:\", test_x.shape)\n",
    "print(\"train_y shape:\", train_y.shape)"
   ]
  },
  {
   "cell_type": "markdown",
   "metadata": {},
   "source": [
    "Define GRU model. Use callback to evaluate auc metric."
   ]
  },
  {
   "cell_type": "code",
   "execution_count": 7,
   "metadata": {
    "_uuid": "d39a2f9dec6d979ba1967f274e068ee2175da34c"
   },
   "outputs": [],
   "source": [
    "from keras.models import Sequential\n",
    "from keras.layers import Dense\n",
    "from keras.layers import LSTM, GRU\n",
    "from keras.regularizers import l2\n",
    "from keras.optimizers import RMSprop, Adam\n",
    "\n",
    "def build_model(time_step, n_features):\n",
    "    model = Sequential()\n",
    "    model.add(GRU(8, input_shape=(time_step, n_features))) #unit: #of neurons in each LSTM cell? input_shape=(time_step, n_features)\n",
    "    model.add(Dense(1,activation='sigmoid'))\n",
    "    return model\n",
    "\n",
    "from keras.callbacks import Callback\n",
    "from keras.callbacks import EarlyStopping\n",
    "import logging\n",
    "\n",
    "class IntervalEvaluation(Callback):\n",
    "    def __init__(self, validation_data=(), interval=1):\n",
    "        super(Callback, self).__init__()\n",
    "\n",
    "        self.interval = interval\n",
    "        self.X_val, self.y_val = validation_data\n",
    "\n",
    "    def on_epoch_end(self, epoch, logs={}):\n",
    "        if epoch % self.interval == (self.interval-1):\n",
    "            y_pred = self.model.predict(self.X_val, verbose=0)[:,0]\n",
    "            score = roc_auc_score(self.y_val, y_pred)\n",
    "            print('roc score',score)"
   ]
  },
  {
   "cell_type": "markdown",
   "metadata": {},
   "source": [
    "Training..."
   ]
  },
  {
   "cell_type": "code",
   "execution_count": 8,
   "metadata": {
    "_uuid": "8196c1f6d8afd551ab3fa230f2a14715b553425f",
    "scrolled": false
   },
   "outputs": [
    {
     "name": "stderr",
     "output_type": "stream",
     "text": [
      "2025-10-15 15:18:34.387081: I metal_plugin/src/device/metal_device.cc:1154] Metal device set to: Apple M1 Pro\n",
      "2025-10-15 15:18:34.387307: I metal_plugin/src/device/metal_device.cc:296] systemMemory: 16.00 GB\n",
      "2025-10-15 15:18:34.387326: I metal_plugin/src/device/metal_device.cc:313] maxCacheSize: 5.92 GB\n",
      "2025-10-15 15:18:34.387501: I tensorflow/core/common_runtime/pluggable_device/pluggable_device_factory.cc:303] Could not identify NUMA node of platform GPU ID 0, defaulting to 0. Your kernel may not have been built with NUMA support.\n",
      "2025-10-15 15:18:34.387804: I tensorflow/core/common_runtime/pluggable_device/pluggable_device_factory.cc:269] Created TensorFlow device (/job:localhost/replica:0/task:0/device:GPU:0 with 0 MB memory) -> physical PluggableDevice (device: 0, name: METAL, pci bus id: <undefined>)\n",
      "2025-10-15 15:18:39.602486: I tensorflow/core/grappler/optimizers/custom_graph_optimizer_registry.cc:114] Plugin optimizer for device_type GPU is enabled.\n",
      "2025-10-15 15:18:39.774644: I tensorflow/core/grappler/optimizers/custom_graph_optimizer_registry.cc:114] Plugin optimizer for device_type GPU is enabled.\n",
      "2025-10-15 15:18:39.965623: I tensorflow/core/grappler/optimizers/custom_graph_optimizer_registry.cc:114] Plugin optimizer for device_type GPU is enabled.\n",
      "2025-10-15 15:18:45.504059: I tensorflow/core/grappler/optimizers/custom_graph_optimizer_registry.cc:114] Plugin optimizer for device_type GPU is enabled.\n",
      "2025-10-15 15:18:45.592283: I tensorflow/core/grappler/optimizers/custom_graph_optimizer_registry.cc:114] Plugin optimizer for device_type GPU is enabled.\n",
      "2025-10-15 15:19:01.971653: I tensorflow/core/grappler/optimizers/custom_graph_optimizer_registry.cc:114] Plugin optimizer for device_type GPU is enabled.\n",
      "2025-10-15 15:19:02.018447: I tensorflow/core/grappler/optimizers/custom_graph_optimizer_registry.cc:114] Plugin optimizer for device_type GPU is enabled.\n"
     ]
    },
    {
     "name": "stdout",
     "output_type": "stream",
     "text": [
      "roc score 0.4890230449932504\n",
      "roc score 0.5307974923556896\n",
      "roc score 0.5438424637111718\n",
      "roc score 0.5515033564901897\n",
      "1810/1810 [==============================] - 10s 5ms/step\n",
      "1494/1494 [==============================] - 7s 5ms/step\n",
      "Fold  1 AUC : 0.551503\n"
     ]
    },
    {
     "name": "stderr",
     "output_type": "stream",
     "text": [
      "2025-10-15 15:21:02.382573: I tensorflow/core/grappler/optimizers/custom_graph_optimizer_registry.cc:114] Plugin optimizer for device_type GPU is enabled.\n",
      "2025-10-15 15:21:02.538546: I tensorflow/core/grappler/optimizers/custom_graph_optimizer_registry.cc:114] Plugin optimizer for device_type GPU is enabled.\n",
      "2025-10-15 15:21:02.667984: I tensorflow/core/grappler/optimizers/custom_graph_optimizer_registry.cc:114] Plugin optimizer for device_type GPU is enabled.\n",
      "2025-10-15 15:21:06.569981: I tensorflow/core/grappler/optimizers/custom_graph_optimizer_registry.cc:114] Plugin optimizer for device_type GPU is enabled.\n",
      "2025-10-15 15:21:06.626213: I tensorflow/core/grappler/optimizers/custom_graph_optimizer_registry.cc:114] Plugin optimizer for device_type GPU is enabled.\n",
      "2025-10-15 15:21:22.103015: I tensorflow/core/grappler/optimizers/custom_graph_optimizer_registry.cc:114] Plugin optimizer for device_type GPU is enabled.\n",
      "2025-10-15 15:21:22.144178: I tensorflow/core/grappler/optimizers/custom_graph_optimizer_registry.cc:114] Plugin optimizer for device_type GPU is enabled.\n"
     ]
    },
    {
     "name": "stdout",
     "output_type": "stream",
     "text": [
      "roc score 0.5294599282839128\n",
      "roc score 0.5399941672646458\n",
      "roc score 0.5449230098045219\n",
      "roc score 0.5489119215154075\n",
      "1810/1810 [==============================] - 9s 5ms/step\n",
      "1494/1494 [==============================] - 7s 5ms/step\n",
      "Fold  2 AUC : 0.548912\n"
     ]
    },
    {
     "name": "stderr",
     "output_type": "stream",
     "text": [
      "2025-10-15 15:23:45.491897: I tensorflow/core/grappler/optimizers/custom_graph_optimizer_registry.cc:114] Plugin optimizer for device_type GPU is enabled.\n",
      "2025-10-15 15:23:45.658068: I tensorflow/core/grappler/optimizers/custom_graph_optimizer_registry.cc:114] Plugin optimizer for device_type GPU is enabled.\n",
      "2025-10-15 15:23:45.826750: I tensorflow/core/grappler/optimizers/custom_graph_optimizer_registry.cc:114] Plugin optimizer for device_type GPU is enabled.\n",
      "2025-10-15 15:23:50.567737: I tensorflow/core/grappler/optimizers/custom_graph_optimizer_registry.cc:114] Plugin optimizer for device_type GPU is enabled.\n",
      "2025-10-15 15:23:50.662007: I tensorflow/core/grappler/optimizers/custom_graph_optimizer_registry.cc:114] Plugin optimizer for device_type GPU is enabled.\n",
      "2025-10-15 15:24:10.057707: I tensorflow/core/grappler/optimizers/custom_graph_optimizer_registry.cc:114] Plugin optimizer for device_type GPU is enabled.\n",
      "2025-10-15 15:24:10.101798: I tensorflow/core/grappler/optimizers/custom_graph_optimizer_registry.cc:114] Plugin optimizer for device_type GPU is enabled.\n"
     ]
    },
    {
     "name": "stdout",
     "output_type": "stream",
     "text": [
      "roc score 0.51808879390946\n",
      "roc score 0.5458377068562532\n",
      "roc score 0.5518504929256632\n",
      "roc score 0.5564795940266483\n",
      "1810/1810 [==============================] - 9s 5ms/step\n",
      "1494/1494 [==============================] - 7s 5ms/step\n",
      "Fold  3 AUC : 0.556480\n"
     ]
    },
    {
     "name": "stderr",
     "output_type": "stream",
     "text": [
      "2025-10-15 15:26:18.837440: I tensorflow/core/grappler/optimizers/custom_graph_optimizer_registry.cc:114] Plugin optimizer for device_type GPU is enabled.\n",
      "2025-10-15 15:26:19.036854: I tensorflow/core/grappler/optimizers/custom_graph_optimizer_registry.cc:114] Plugin optimizer for device_type GPU is enabled.\n",
      "2025-10-15 15:26:19.218051: I tensorflow/core/grappler/optimizers/custom_graph_optimizer_registry.cc:114] Plugin optimizer for device_type GPU is enabled.\n",
      "2025-10-15 15:26:23.422648: I tensorflow/core/grappler/optimizers/custom_graph_optimizer_registry.cc:114] Plugin optimizer for device_type GPU is enabled.\n",
      "2025-10-15 15:26:23.477110: I tensorflow/core/grappler/optimizers/custom_graph_optimizer_registry.cc:114] Plugin optimizer for device_type GPU is enabled.\n",
      "2025-10-15 15:26:38.115295: I tensorflow/core/grappler/optimizers/custom_graph_optimizer_registry.cc:114] Plugin optimizer for device_type GPU is enabled.\n",
      "2025-10-15 15:26:38.154147: I tensorflow/core/grappler/optimizers/custom_graph_optimizer_registry.cc:114] Plugin optimizer for device_type GPU is enabled.\n"
     ]
    },
    {
     "name": "stdout",
     "output_type": "stream",
     "text": [
      "roc score 0.5130906684755088\n",
      "roc score 0.5289794433207754\n",
      "roc score 0.5372363134978391\n",
      "roc score 0.5434127597745201\n",
      "1810/1810 [==============================] - 7s 4ms/step\n",
      "1494/1494 [==============================] - 6s 4ms/step\n",
      "Fold  4 AUC : 0.543413\n"
     ]
    },
    {
     "name": "stderr",
     "output_type": "stream",
     "text": [
      "2025-10-15 15:28:19.839633: I tensorflow/core/grappler/optimizers/custom_graph_optimizer_registry.cc:114] Plugin optimizer for device_type GPU is enabled.\n",
      "2025-10-15 15:28:20.015584: I tensorflow/core/grappler/optimizers/custom_graph_optimizer_registry.cc:114] Plugin optimizer for device_type GPU is enabled.\n",
      "2025-10-15 15:28:20.158835: I tensorflow/core/grappler/optimizers/custom_graph_optimizer_registry.cc:114] Plugin optimizer for device_type GPU is enabled.\n",
      "2025-10-15 15:28:24.430019: I tensorflow/core/grappler/optimizers/custom_graph_optimizer_registry.cc:114] Plugin optimizer for device_type GPU is enabled.\n",
      "2025-10-15 15:28:24.483141: I tensorflow/core/grappler/optimizers/custom_graph_optimizer_registry.cc:114] Plugin optimizer for device_type GPU is enabled.\n",
      "2025-10-15 15:28:38.837401: I tensorflow/core/grappler/optimizers/custom_graph_optimizer_registry.cc:114] Plugin optimizer for device_type GPU is enabled.\n",
      "2025-10-15 15:28:38.876097: I tensorflow/core/grappler/optimizers/custom_graph_optimizer_registry.cc:114] Plugin optimizer for device_type GPU is enabled.\n"
     ]
    },
    {
     "name": "stdout",
     "output_type": "stream",
     "text": [
      "roc score 0.5248818662727912\n",
      "roc score 0.5418667197012665\n",
      "roc score 0.5511828053381509\n",
      "roc score 0.5590604052285991\n",
      "1809/1809 [==============================] - 7s 4ms/step\n",
      "1494/1494 [==============================] - 5s 4ms/step\n",
      "Fold  5 AUC : 0.559060\n"
     ]
    }
   ],
   "source": [
    "from tensorflow.keras.optimizers.legacy import Adam # for mac only\n",
    "\n",
    "#Run a 5 fold\n",
    "folds = StratifiedKFold(n_splits=5, shuffle=True, random_state=777)\n",
    "oof_preds = np.zeros(train_x.shape[0])\n",
    "sub_preds = np.zeros(test_x.shape[0])\n",
    "\n",
    "for n_fold, (trn_idx, val_idx) in enumerate(folds.split(train_x, train_y)):\n",
    "    trn_x, val_x = train_x[trn_idx], train_x[val_idx]\n",
    "    trn_y, val_y = train_y.values[trn_idx], train_y.values[val_idx]\n",
    "    ival = IntervalEvaluation(validation_data=(val_x, val_y), interval=5)\n",
    "    \n",
    "    model = build_model(trn_x.shape[1],trn_x.shape[2])\n",
    "    model.compile(loss='binary_crossentropy', optimizer=Adam(learning_rate=0.0001))\n",
    "    model.fit(trn_x, trn_y,\n",
    "              validation_data= [val_x, val_y],\n",
    "              epochs=20, batch_size=2048, \n",
    "              class_weight = {0:1,1:10},\n",
    "              callbacks=[ival], verbose=0)\n",
    "    \n",
    "    oof_preds[val_idx] = model.predict(val_x)[:,0]\n",
    "    sub_preds += model.predict(test_x)[:,0] / folds.n_splits\n",
    "    \n",
    "    print('Fold %2d AUC : %.6f' % (n_fold + 1, roc_auc_score(val_y, oof_preds[val_idx])))\n",
    "  \n",
    "    del model, trn_x, trn_y, val_x, val_y\n",
    "    gc.collect()"
   ]
  },
  {
   "cell_type": "markdown",
   "metadata": {},
   "source": [
    "Save model prediction to disk."
   ]
  },
  {
   "cell_type": "code",
   "execution_count": 10,
   "metadata": {
    "_uuid": "702835883349074834b30bdf194820d98cd36631"
   },
   "outputs": [],
   "source": [
    "pos_score_train = pd.DataFrame({'pos_score':oof_preds}, index=trn_id)\n",
    "pos_score_test = pd.DataFrame({'pos_score':sub_preds}, index=test_id)             \n",
    "pos_score_train.to_csv('../output/pos_score_train.csv')\n",
    "pos_score_test.to_csv('../output/pos_score_test.csv')"
   ]
  }
 ],
 "metadata": {
  "kernelspec": {
   "display_name": "tf26",
   "language": "python",
   "name": "python3"
  },
  "language_info": {
   "codemirror_mode": {
    "name": "ipython",
    "version": 3
   },
   "file_extension": ".py",
   "mimetype": "text/x-python",
   "name": "python",
   "nbconvert_exporter": "python",
   "pygments_lexer": "ipython3",
   "version": "3.9.0"
  }
 },
 "nbformat": 4,
 "nbformat_minor": 1
}
