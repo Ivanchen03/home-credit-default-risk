{
 "cells": [
  {
   "cell_type": "markdown",
   "metadata": {},
   "source": [
    "## Installment payment time series feature extraction\n",
    "Train GRU network on installment payment time series data. Save prediction to be used as features in final training."
   ]
  },
  {
   "cell_type": "code",
   "execution_count": 1,
   "metadata": {
    "_cell_guid": "b1076dfc-b9ad-4769-8c92-a6c4dae69d19",
    "_uuid": "8f2839f25d086af736a60e9eeb907d3b93b6e0e5"
   },
   "outputs": [
    {
     "name": "stdout",
     "output_type": "stream",
     "text": [
      "['download_command.txt', 'application_test.csv', 'HomeCredit_columns_description.csv', 'POS_CASH_balance.csv', 'credit_card_balance.csv', 'installments_payments.csv', 'application_train.csv', 'bureau.csv', 'previous_application.csv', 'bureau_balance.csv', 'sample_submission.csv']\n"
     ]
    }
   ],
   "source": [
    "import pandas as pd\n",
    "import numpy as np\n",
    "\n",
    "from sklearn.linear_model import LinearRegression, Ridge\n",
    "from sklearn.metrics import roc_auc_score, roc_curve\n",
    "from sklearn.model_selection import KFold, StratifiedKFold, train_test_split\n",
    "from sklearn.preprocessing import StandardScaler, MinMaxScaler, MaxAbsScaler\n",
    "import gc\n",
    "\n",
    "import os\n",
    "print(os.listdir(\"../input\"))\n",
    "    \n",
    "gc.enable()"
   ]
  },
  {
   "cell_type": "markdown",
   "metadata": {},
   "source": [
    "Helper functions."
   ]
  },
  {
   "cell_type": "code",
   "execution_count": 2,
   "metadata": {},
   "outputs": [],
   "source": [
    "def downcast_dtypes(df):\n",
    "    float_cols = [c for c in df if df[c].dtype == \"float64\"]\n",
    "    int_cols =   [c for c in df if df[c].dtype in [\"int64\"]]\n",
    "\n",
    "    df[float_cols] = df[float_cols].astype(np.float32)\n",
    "    df[int_cols]   = df[int_cols].astype(np.int32)\n",
    "\n",
    "    return df\n",
    "\n",
    "\n",
    "def scale_data(df_):\n",
    "    df = df_.copy(deep=True)\n",
    "    for f_ in df_.columns:\n",
    "        if (df[f_].max()- df[f_].min() <=10):\n",
    "            df[f_] = df[f_] - df[f_].min()\n",
    "            continue\n",
    "        df[f_] = df[f_] - df[f_].median()\n",
    "        scale = (df[f_].quantile(0.99)-df[f_].quantile(0.01))\n",
    "        if scale==0:\n",
    "            scale = df[f_].max() - df[f_].min()\n",
    "        df[f_] = df[f_]/scale\n",
    "        if df[f_].max()>10:\n",
    "            rescale = df[f_]>df[f_].quantile(0.99)\n",
    "            quantile99 = df[f_].quantile(0.99)\n",
    "            quantile100 = df[f_].max()\n",
    "            df[f_].loc[rescale] = quantile99 + (df[f_].loc[rescale] - quantile99) * (10-quantile99)/(quantile100-quantile99)\n",
    "        if df[f_].min()<-10:\n",
    "            rescale = df[f_]<df[f_].quantile(0.01)\n",
    "            quantile1 = df[f_].quantile(0.01)\n",
    "            quantile0 = df[f_].min()\n",
    "            df[f_].loc[rescale] = quantile1 + (df[f_].loc[rescale] - quantile1) * (-10-quantile1)/(quantile0-quantile1)\n",
    "        df[f_] = df[f_] - df[f_].min()\n",
    "    return df"
   ]
  },
  {
   "cell_type": "markdown",
   "metadata": {},
   "source": [
    "Read installment data and create features."
   ]
  },
  {
   "cell_type": "code",
   "execution_count": 3,
   "metadata": {
    "_uuid": "c667420221724b44093c52d85d01c0d9ab4482e2"
   },
   "outputs": [
    {
     "data": {
      "text/html": [
       "<div>\n",
       "<style scoped>\n",
       "    .dataframe tbody tr th:only-of-type {\n",
       "        vertical-align: middle;\n",
       "    }\n",
       "\n",
       "    .dataframe tbody tr th {\n",
       "        vertical-align: top;\n",
       "    }\n",
       "\n",
       "    .dataframe thead th {\n",
       "        text-align: right;\n",
       "    }\n",
       "</style>\n",
       "<table border=\"1\" class=\"dataframe\">\n",
       "  <thead>\n",
       "    <tr style=\"text-align: right;\">\n",
       "      <th></th>\n",
       "      <th>SK_ID_PREV</th>\n",
       "      <th>SK_ID_CURR</th>\n",
       "      <th>NUM_INSTALMENT_NUMBER</th>\n",
       "      <th>AMT_INSTALMENT</th>\n",
       "      <th>AMT_PAYMENT</th>\n",
       "      <th>AMT_PAYMENT_PERC</th>\n",
       "      <th>DPD</th>\n",
       "      <th>DBD</th>\n",
       "      <th>MONTHS_BALANCE</th>\n",
       "      <th>AMT_INSTALMENT_LOG</th>\n",
       "      <th>AMT_PAYMENT_LOG</th>\n",
       "    </tr>\n",
       "  </thead>\n",
       "  <tbody>\n",
       "    <tr>\n",
       "      <th>0</th>\n",
       "      <td>1000001</td>\n",
       "      <td>158271</td>\n",
       "      <td>1</td>\n",
       "      <td>0.044024</td>\n",
       "      <td>0.035582</td>\n",
       "      <td>0.999844</td>\n",
       "      <td>0.0</td>\n",
       "      <td>26.0</td>\n",
       "      <td>-8</td>\n",
       "      <td>8.764883</td>\n",
       "      <td>8.764883</td>\n",
       "    </tr>\n",
       "    <tr>\n",
       "      <th>1</th>\n",
       "      <td>1000001</td>\n",
       "      <td>158271</td>\n",
       "      <td>2</td>\n",
       "      <td>0.426463</td>\n",
       "      <td>0.344683</td>\n",
       "      <td>0.999984</td>\n",
       "      <td>0.0</td>\n",
       "      <td>6.0</td>\n",
       "      <td>-7</td>\n",
       "      <td>11.035536</td>\n",
       "      <td>11.035536</td>\n",
       "    </tr>\n",
       "    <tr>\n",
       "      <th>2</th>\n",
       "      <td>1000002</td>\n",
       "      <td>101962</td>\n",
       "      <td>1</td>\n",
       "      <td>0.043059</td>\n",
       "      <td>0.034802</td>\n",
       "      <td>0.999840</td>\n",
       "      <td>0.0</td>\n",
       "      <td>11.0</td>\n",
       "      <td>-52</td>\n",
       "      <td>8.742734</td>\n",
       "      <td>8.742734</td>\n",
       "    </tr>\n",
       "    <tr>\n",
       "      <th>3</th>\n",
       "      <td>1000002</td>\n",
       "      <td>101962</td>\n",
       "      <td>2</td>\n",
       "      <td>0.043059</td>\n",
       "      <td>0.034802</td>\n",
       "      <td>0.999840</td>\n",
       "      <td>0.0</td>\n",
       "      <td>5.0</td>\n",
       "      <td>-51</td>\n",
       "      <td>8.742734</td>\n",
       "      <td>8.742734</td>\n",
       "    </tr>\n",
       "    <tr>\n",
       "      <th>4</th>\n",
       "      <td>1000002</td>\n",
       "      <td>101962</td>\n",
       "      <td>3</td>\n",
       "      <td>0.043059</td>\n",
       "      <td>0.034802</td>\n",
       "      <td>0.999840</td>\n",
       "      <td>0.0</td>\n",
       "      <td>19.0</td>\n",
       "      <td>-50</td>\n",
       "      <td>8.742734</td>\n",
       "      <td>8.742734</td>\n",
       "    </tr>\n",
       "  </tbody>\n",
       "</table>\n",
       "</div>"
      ],
      "text/plain": [
       "   SK_ID_PREV  SK_ID_CURR  NUM_INSTALMENT_NUMBER  AMT_INSTALMENT  AMT_PAYMENT  \\\n",
       "0     1000001      158271                      1        0.044024     0.035582   \n",
       "1     1000001      158271                      2        0.426463     0.344683   \n",
       "2     1000002      101962                      1        0.043059     0.034802   \n",
       "3     1000002      101962                      2        0.043059     0.034802   \n",
       "4     1000002      101962                      3        0.043059     0.034802   \n",
       "\n",
       "   AMT_PAYMENT_PERC  DPD   DBD  MONTHS_BALANCE  AMT_INSTALMENT_LOG  \\\n",
       "0          0.999844  0.0  26.0              -8            8.764883   \n",
       "1          0.999984  0.0   6.0              -7           11.035536   \n",
       "2          0.999840  0.0  11.0             -52            8.742734   \n",
       "3          0.999840  0.0   5.0             -51            8.742734   \n",
       "4          0.999840  0.0  19.0             -50            8.742734   \n",
       "\n",
       "   AMT_PAYMENT_LOG  \n",
       "0         8.764883  \n",
       "1        11.035536  \n",
       "2         8.742734  \n",
       "3         8.742734  \n",
       "4         8.742734  "
      ]
     },
     "execution_count": 3,
     "metadata": {},
     "output_type": "execute_result"
    }
   ],
   "source": [
    "inst = pd.read_csv('../input/installments_payments.csv')\n",
    "inst['DAYS_ENTRY_PAYMENT_weighted'] = inst['DAYS_ENTRY_PAYMENT'] * inst['AMT_PAYMENT']\n",
    "inst = inst.groupby(['SK_ID_PREV','SK_ID_CURR','NUM_INSTALMENT_NUMBER']).agg({\n",
    "                                                                       'DAYS_INSTALMENT':'mean',\n",
    "                                                                       'DAYS_ENTRY_PAYMENT_weighted':'sum',\n",
    "                                                                       'AMT_INSTALMENT':'mean',\n",
    "                                                                       'AMT_PAYMENT':'sum'})\n",
    "inst['DAYS_ENTRY_PAYMENT'] = inst['DAYS_ENTRY_PAYMENT_weighted']/inst['AMT_PAYMENT']\n",
    "inst = inst.reset_index()\n",
    "del inst['DAYS_ENTRY_PAYMENT_weighted']\n",
    "inst['AMT_PAYMENT_PERC'] = inst['AMT_PAYMENT'] / (1+inst['AMT_INSTALMENT'])\n",
    "inst['DPD'] = (inst['DAYS_ENTRY_PAYMENT'] - inst['DAYS_INSTALMENT']).clip(lower=0)\n",
    "inst['DBD'] = (inst['DAYS_INSTALMENT'] - inst['DAYS_ENTRY_PAYMENT']).clip(lower=0)\n",
    "inst['MONTHS_BALANCE'] = (inst['DAYS_INSTALMENT']/30.4375).astype('int')\n",
    "del inst['DAYS_ENTRY_PAYMENT'], inst['DAYS_INSTALMENT']\n",
    "gc.collect()\n",
    "#apply logarithm to make distribution more normal\n",
    "inst['AMT_INSTALMENT_LOG'] = inst['AMT_INSTALMENT'].apply(np.log1p)\n",
    "inst['AMT_PAYMENT_LOG'] = inst['AMT_PAYMENT'].apply(np.log1p)\n",
    "inst[['AMT_INSTALMENT','AMT_PAYMENT']] = scale_data(inst[['AMT_INSTALMENT','AMT_PAYMENT']])\n",
    "inst.head()"
   ]
  },
  {
   "cell_type": "markdown",
   "metadata": {},
   "source": [
    "Read target from main table."
   ]
  },
  {
   "cell_type": "code",
   "execution_count": 4,
   "metadata": {
    "_uuid": "3ba57fe82d915842f663fc21409af9f0ffc1abf8"
   },
   "outputs": [
    {
     "data": {
      "text/plain": [
       "((307511, 2), (48744, 1))"
      ]
     },
     "execution_count": 4,
     "metadata": {},
     "output_type": "execute_result"
    }
   ],
   "source": [
    "data_app = pd.read_csv('../input/application_train.csv',usecols=['SK_ID_CURR','TARGET'])\n",
    "data_test = pd.read_csv('../input/application_test.csv',usecols=['SK_ID_CURR'])\n",
    "data_app.shape, data_test.shape"
   ]
  },
  {
   "cell_type": "code",
   "execution_count": 5,
   "metadata": {
    "_uuid": "f9bbf170359e06f5c1bc257cc54e027cc396abb3"
   },
   "outputs": [
    {
     "data": {
      "text/plain": [
       "((291643,), (47944,))"
      ]
     },
     "execution_count": 5,
     "metadata": {},
     "output_type": "execute_result"
    }
   ],
   "source": [
    "trn_id = data_app['SK_ID_CURR'].loc[data_app.SK_ID_CURR.isin(inst.SK_ID_CURR)]\n",
    "test_id = data_test['SK_ID_CURR'].loc[data_test['SK_ID_CURR'].isin(inst.SK_ID_CURR)]\n",
    "trn_id.shape, test_id.shape"
   ]
  },
  {
   "cell_type": "markdown",
   "metadata": {},
   "source": [
    "Split train and test set. Group by ID and month to create time series."
   ]
  },
  {
   "cell_type": "code",
   "execution_count": 6,
   "metadata": {
    "_uuid": "0c6a308c58c959d41ba6fdaa9492133bfc5d0489"
   },
   "outputs": [
    {
     "data": {
      "text/html": [
       "<div>\n",
       "<style scoped>\n",
       "    .dataframe tbody tr th:only-of-type {\n",
       "        vertical-align: middle;\n",
       "    }\n",
       "\n",
       "    .dataframe tbody tr th {\n",
       "        vertical-align: top;\n",
       "    }\n",
       "\n",
       "    .dataframe thead th {\n",
       "        text-align: right;\n",
       "    }\n",
       "</style>\n",
       "<table border=\"1\" class=\"dataframe\">\n",
       "  <thead>\n",
       "    <tr style=\"text-align: right;\">\n",
       "      <th></th>\n",
       "      <th></th>\n",
       "      <th>SK_ID_PREV_COUNT</th>\n",
       "      <th>NUM_INSTALMENT_NUMBER_SUM</th>\n",
       "      <th>NUM_INSTALMENT_NUMBER_MAX</th>\n",
       "      <th>AMT_INSTALMENT_SUM</th>\n",
       "      <th>AMT_INSTALMENT_MEAN</th>\n",
       "      <th>AMT_PAYMENT_SUM</th>\n",
       "      <th>AMT_PAYMENT_MEAN</th>\n",
       "      <th>AMT_PAYMENT_PERC_MEAN</th>\n",
       "      <th>AMT_PAYMENT_PERC_MAX</th>\n",
       "      <th>DPD_SUM</th>\n",
       "      <th>DPD_MAX</th>\n",
       "      <th>DPD_MEAN</th>\n",
       "      <th>DBD_SUM</th>\n",
       "      <th>DBD_MAX</th>\n",
       "      <th>DBD_MEAN</th>\n",
       "      <th>AMT_INSTALMENT_LOG_MEAN</th>\n",
       "      <th>AMT_PAYMENT_LOG_MEAN</th>\n",
       "    </tr>\n",
       "    <tr>\n",
       "      <th>SK_ID_CURR</th>\n",
       "      <th>MONTHS_BALANCE</th>\n",
       "      <th></th>\n",
       "      <th></th>\n",
       "      <th></th>\n",
       "      <th></th>\n",
       "      <th></th>\n",
       "      <th></th>\n",
       "      <th></th>\n",
       "      <th></th>\n",
       "      <th></th>\n",
       "      <th></th>\n",
       "      <th></th>\n",
       "      <th></th>\n",
       "      <th></th>\n",
       "      <th></th>\n",
       "      <th></th>\n",
       "      <th></th>\n",
       "      <th></th>\n",
       "    </tr>\n",
       "  </thead>\n",
       "  <tbody>\n",
       "    <tr>\n",
       "      <th rowspan=\"5\" valign=\"top\">100001</th>\n",
       "      <th>-95</th>\n",
       "      <td>1</td>\n",
       "      <td>2</td>\n",
       "      <td>2</td>\n",
       "      <td>0.027373</td>\n",
       "      <td>0.027373</td>\n",
       "      <td>0.022124</td>\n",
       "      <td>0.022124</td>\n",
       "      <td>0.999749</td>\n",
       "      <td>0.999749</td>\n",
       "      <td>0.0</td>\n",
       "      <td>0.0</td>\n",
       "      <td>0.0</td>\n",
       "      <td>0.0</td>\n",
       "      <td>0.0</td>\n",
       "      <td>0.0</td>\n",
       "      <td>8.289804</td>\n",
       "      <td>8.289804</td>\n",
       "    </tr>\n",
       "    <tr>\n",
       "      <th>-94</th>\n",
       "      <td>1</td>\n",
       "      <td>3</td>\n",
       "      <td>3</td>\n",
       "      <td>0.027373</td>\n",
       "      <td>0.027373</td>\n",
       "      <td>0.022124</td>\n",
       "      <td>0.022124</td>\n",
       "      <td>0.999749</td>\n",
       "      <td>0.999749</td>\n",
       "      <td>11.0</td>\n",
       "      <td>11.0</td>\n",
       "      <td>11.0</td>\n",
       "      <td>0.0</td>\n",
       "      <td>0.0</td>\n",
       "      <td>0.0</td>\n",
       "      <td>8.289804</td>\n",
       "      <td>8.289804</td>\n",
       "    </tr>\n",
       "    <tr>\n",
       "      <th>-93</th>\n",
       "      <td>1</td>\n",
       "      <td>4</td>\n",
       "      <td>4</td>\n",
       "      <td>0.027365</td>\n",
       "      <td>0.027365</td>\n",
       "      <td>0.022118</td>\n",
       "      <td>0.022118</td>\n",
       "      <td>0.999749</td>\n",
       "      <td>0.999749</td>\n",
       "      <td>0.0</td>\n",
       "      <td>0.0</td>\n",
       "      <td>0.0</td>\n",
       "      <td>0.0</td>\n",
       "      <td>0.0</td>\n",
       "      <td>0.0</td>\n",
       "      <td>8.289520</td>\n",
       "      <td>8.289520</td>\n",
       "    </tr>\n",
       "    <tr>\n",
       "      <th>-56</th>\n",
       "      <td>1</td>\n",
       "      <td>1</td>\n",
       "      <td>1</td>\n",
       "      <td>0.027160</td>\n",
       "      <td>0.027160</td>\n",
       "      <td>0.021951</td>\n",
       "      <td>0.021951</td>\n",
       "      <td>0.999747</td>\n",
       "      <td>0.999747</td>\n",
       "      <td>0.0</td>\n",
       "      <td>0.0</td>\n",
       "      <td>0.0</td>\n",
       "      <td>6.0</td>\n",
       "      <td>6.0</td>\n",
       "      <td>6.0</td>\n",
       "      <td>8.281977</td>\n",
       "      <td>8.281977</td>\n",
       "    </tr>\n",
       "    <tr>\n",
       "      <th>-55</th>\n",
       "      <td>1</td>\n",
       "      <td>2</td>\n",
       "      <td>2</td>\n",
       "      <td>0.027160</td>\n",
       "      <td>0.027160</td>\n",
       "      <td>0.021951</td>\n",
       "      <td>0.021951</td>\n",
       "      <td>0.999747</td>\n",
       "      <td>0.999747</td>\n",
       "      <td>0.0</td>\n",
       "      <td>0.0</td>\n",
       "      <td>0.0</td>\n",
       "      <td>36.0</td>\n",
       "      <td>36.0</td>\n",
       "      <td>36.0</td>\n",
       "      <td>8.281977</td>\n",
       "      <td>8.281977</td>\n",
       "    </tr>\n",
       "  </tbody>\n",
       "</table>\n",
       "</div>"
      ],
      "text/plain": [
       "                           SK_ID_PREV_COUNT  NUM_INSTALMENT_NUMBER_SUM  \\\n",
       "SK_ID_CURR MONTHS_BALANCE                                                \n",
       "100001     -95                            1                          2   \n",
       "           -94                            1                          3   \n",
       "           -93                            1                          4   \n",
       "           -56                            1                          1   \n",
       "           -55                            1                          2   \n",
       "\n",
       "                           NUM_INSTALMENT_NUMBER_MAX  AMT_INSTALMENT_SUM  \\\n",
       "SK_ID_CURR MONTHS_BALANCE                                                  \n",
       "100001     -95                                     2            0.027373   \n",
       "           -94                                     3            0.027373   \n",
       "           -93                                     4            0.027365   \n",
       "           -56                                     1            0.027160   \n",
       "           -55                                     2            0.027160   \n",
       "\n",
       "                           AMT_INSTALMENT_MEAN  AMT_PAYMENT_SUM  \\\n",
       "SK_ID_CURR MONTHS_BALANCE                                         \n",
       "100001     -95                        0.027373         0.022124   \n",
       "           -94                        0.027373         0.022124   \n",
       "           -93                        0.027365         0.022118   \n",
       "           -56                        0.027160         0.021951   \n",
       "           -55                        0.027160         0.021951   \n",
       "\n",
       "                           AMT_PAYMENT_MEAN  AMT_PAYMENT_PERC_MEAN  \\\n",
       "SK_ID_CURR MONTHS_BALANCE                                            \n",
       "100001     -95                     0.022124               0.999749   \n",
       "           -94                     0.022124               0.999749   \n",
       "           -93                     0.022118               0.999749   \n",
       "           -56                     0.021951               0.999747   \n",
       "           -55                     0.021951               0.999747   \n",
       "\n",
       "                           AMT_PAYMENT_PERC_MAX  DPD_SUM  DPD_MAX  DPD_MEAN  \\\n",
       "SK_ID_CURR MONTHS_BALANCE                                                     \n",
       "100001     -95                         0.999749      0.0      0.0       0.0   \n",
       "           -94                         0.999749     11.0     11.0      11.0   \n",
       "           -93                         0.999749      0.0      0.0       0.0   \n",
       "           -56                         0.999747      0.0      0.0       0.0   \n",
       "           -55                         0.999747      0.0      0.0       0.0   \n",
       "\n",
       "                           DBD_SUM  DBD_MAX  DBD_MEAN  \\\n",
       "SK_ID_CURR MONTHS_BALANCE                               \n",
       "100001     -95                 0.0      0.0       0.0   \n",
       "           -94                 0.0      0.0       0.0   \n",
       "           -93                 0.0      0.0       0.0   \n",
       "           -56                 6.0      6.0       6.0   \n",
       "           -55                36.0     36.0      36.0   \n",
       "\n",
       "                           AMT_INSTALMENT_LOG_MEAN  AMT_PAYMENT_LOG_MEAN  \n",
       "SK_ID_CURR MONTHS_BALANCE                                                 \n",
       "100001     -95                            8.289804              8.289804  \n",
       "           -94                            8.289804              8.289804  \n",
       "           -93                            8.289520              8.289520  \n",
       "           -56                            8.281977              8.281977  \n",
       "           -55                            8.281977              8.281977  "
      ]
     },
     "execution_count": 6,
     "metadata": {},
     "output_type": "execute_result"
    }
   ],
   "source": [
    "inst_trn = inst.loc[inst.SK_ID_CURR.isin(trn_id)]\n",
    "inst_test = inst.loc[inst.SK_ID_CURR.isin(test_id)]\n",
    "num_aggregations = {\n",
    "    'SK_ID_PREV': ['count'],\n",
    "    'NUM_INSTALMENT_NUMBER': ['sum', 'max'],\n",
    "    'AMT_INSTALMENT': ['sum','mean'],\n",
    "    'AMT_PAYMENT': ['sum','mean'],\n",
    "    'AMT_PAYMENT_PERC': ['mean','max'],\n",
    "    'DPD': ['sum','max','mean'],\n",
    "    'DBD': ['sum','max','mean'],\n",
    "    'AMT_INSTALMENT_LOG': ['mean'],\n",
    "    'AMT_PAYMENT_LOG': ['mean']\n",
    "}\n",
    "inst_trn = inst_trn.groupby(['SK_ID_CURR','MONTHS_BALANCE']).agg(num_aggregations)\n",
    "inst_test = inst_test.groupby(['SK_ID_CURR','MONTHS_BALANCE']).agg(num_aggregations)\n",
    "inst_trn.columns = pd.Index([e[0] + \"_\" + e[1].upper() for e in inst_trn.columns.tolist()])\n",
    "inst_test.columns = pd.Index([e[0] + \"_\" + e[1].upper() for e in inst_test.columns.tolist()])\n",
    "\n",
    "inst_trn = downcast_dtypes(inst_trn)\n",
    "inst_test = downcast_dtypes(inst_test)\n",
    "del inst\n",
    "gc.collect()\n",
    "inst_test.head()"
   ]
  },
  {
   "cell_type": "markdown",
   "metadata": {},
   "source": [
    "Convert dataframe to 3D array (n_sample * n_time_step * n_features) for GRU network training."
   ]
  },
  {
   "cell_type": "code",
   "execution_count": 19,
   "metadata": {
    "_uuid": "cec4687df3722ac66e8b6676321ec5da963b1af0"
   },
   "outputs": [
    {
     "name": "stdout",
     "output_type": "stream",
     "text": [
      "train_x shape: (291643, 97, 17)\n",
      "test_x shape: (47944, 97, 17)\n",
      "train_y shape: (291643,)\n"
     ]
    }
   ],
   "source": [
    "inst_trn.fillna(-9.0, inplace=True)\n",
    "inst_test.fillna(-9.0, inplace=True)\n",
    "# 1. 使用 unstack 将时间序列从索引“解堆”到列，并直接填充缺失值\n",
    "#    level='MONTHS_BALANCE' 指定了要转换的索引层级\n",
    "#    fill_value=-9 在转换过程中一步到位地填充了缺失的时间点\n",
    "train_wide = inst_trn.unstack(level='MONTHS_BALANCE', fill_value=-9)\n",
    "test_wide = inst_test.unstack(level='MONTHS_BALANCE', fill_value=-9)\n",
    "\n",
    "# 2. 获取维度信息，为重塑 (reshape) 做准备\n",
    "n_train_samples = len(train_wide.index)\n",
    "n_test_samples = len(test_wide.index)\n",
    "n_features = len(inst_trn.columns)\n",
    "n_timesteps = len(train_wide.columns) // n_features\n",
    "\n",
    "# 3. 将2D宽数据重塑为3D数组，并交换维度以匹配GRU/LSTM的输入要求\n",
    "#    目标维度: (样本数, 时间步长, 特征数)\n",
    "train_x = train_wide.values.reshape(n_train_samples, n_features, n_timesteps)\n",
    "train_x = np.swapaxes(train_x, 1, 2)\n",
    "\n",
    "test_x = test_wide.values.reshape(n_test_samples, n_features, n_timesteps)\n",
    "test_x = np.swapaxes(test_x, 1, 2)\n",
    "\n",
    "# 4. train_y 的逻辑保持不变\n",
    "#    假设 data_app 和 trn_id 已经定义\n",
    "train_y = data_app['TARGET'].loc[data_app.SK_ID_CURR.isin(trn_id)]\n",
    "\n",
    "# 5. 打印形状以验证\n",
    "print(\"train_x shape:\", train_x.shape)\n",
    "print(\"test_x shape:\", test_x.shape)\n",
    "print(\"train_y shape:\", train_y.shape)\n"
   ]
  },
  {
   "cell_type": "markdown",
   "metadata": {},
   "source": [
    "Define GRU model. Use callback to evaluate auc metric."
   ]
  },
  {
   "cell_type": "code",
   "execution_count": 20,
   "metadata": {
    "_uuid": "d39a2f9dec6d979ba1967f274e068ee2175da34c"
   },
   "outputs": [],
   "source": [
    "from keras.models import Sequential\n",
    "from keras.layers import Dense\n",
    "from keras.layers import LSTM, GRU\n",
    "from keras.regularizers import l2\n",
    "from keras.optimizers import RMSprop, Adam\n",
    "\n",
    "def build_model(time_step, n_features):\n",
    "    model = Sequential()\n",
    "    model.add(GRU(8, input_shape=(time_step, n_features))) #unit: #of neurons in each LSTM cell? input_shape=(time_step, n_features)\n",
    "    model.add(Dense(1,activation='sigmoid'))\n",
    "    return model\n",
    "\n",
    "from keras.callbacks import Callback\n",
    "from keras.callbacks import EarlyStopping\n",
    "import logging\n",
    "\n",
    "class IntervalEvaluation(Callback):\n",
    "    def __init__(self, validation_data=(), interval=1):\n",
    "        super(Callback, self).__init__()\n",
    "\n",
    "        self.interval = interval\n",
    "        self.X_val, self.y_val = validation_data\n",
    "\n",
    "    def on_epoch_end(self, epoch, logs={}):\n",
    "        if epoch % self.interval == (self.interval-1):\n",
    "            y_pred = self.model.predict(self.X_val, verbose=0)[:,0]\n",
    "            score = roc_auc_score(self.y_val, y_pred)\n",
    "            print('roc score',score)\n",
    "            "
   ]
  },
  {
   "cell_type": "markdown",
   "metadata": {},
   "source": [
    "Training..."
   ]
  },
  {
   "cell_type": "code",
   "execution_count": 21,
   "metadata": {
    "_uuid": "8196c1f6d8afd551ab3fa230f2a14715b553425f",
    "scrolled": true
   },
   "outputs": [
    {
     "name": "stdout",
     "output_type": "stream",
     "text": [
      "Epoch 1/40\n"
     ]
    },
    {
     "name": "stderr",
     "output_type": "stream",
     "text": [
      "2025-10-15 14:49:26.591569: I tensorflow/core/grappler/optimizers/custom_graph_optimizer_registry.cc:114] Plugin optimizer for device_type GPU is enabled.\n",
      "2025-10-15 14:49:26.964960: I tensorflow/core/grappler/optimizers/custom_graph_optimizer_registry.cc:114] Plugin optimizer for device_type GPU is enabled.\n",
      "2025-10-15 14:49:27.295635: I tensorflow/core/grappler/optimizers/custom_graph_optimizer_registry.cc:114] Plugin optimizer for device_type GPU is enabled.\n"
     ]
    },
    {
     "name": "stdout",
     "output_type": "stream",
     "text": [
      "114/114 [==============================] - ETA: 0s - loss: 0.5893"
     ]
    },
    {
     "name": "stderr",
     "output_type": "stream",
     "text": [
      "2025-10-15 14:49:34.087161: I tensorflow/core/grappler/optimizers/custom_graph_optimizer_registry.cc:114] Plugin optimizer for device_type GPU is enabled.\n",
      "2025-10-15 14:49:34.155804: I tensorflow/core/grappler/optimizers/custom_graph_optimizer_registry.cc:114] Plugin optimizer for device_type GPU is enabled.\n"
     ]
    },
    {
     "name": "stdout",
     "output_type": "stream",
     "text": [
      "114/114 [==============================] - 9s 63ms/step - loss: 0.5893 - val_loss: 0.5421\n",
      "Epoch 2/40\n",
      "114/114 [==============================] - 4s 32ms/step - loss: 0.5010 - val_loss: 0.4519\n",
      "Epoch 3/40\n",
      "114/114 [==============================] - 4s 31ms/step - loss: 0.4119 - val_loss: 0.3751\n",
      "Epoch 4/40\n",
      "114/114 [==============================] - 3s 30ms/step - loss: 0.3559 - val_loss: 0.3388\n",
      "Epoch 5/40\n",
      "113/114 [============================>.] - ETA: 0s - loss: 0.3293"
     ]
    },
    {
     "name": "stderr",
     "output_type": "stream",
     "text": [
      "2025-10-15 14:49:51.197563: I tensorflow/core/grappler/optimizers/custom_graph_optimizer_registry.cc:114] Plugin optimizer for device_type GPU is enabled.\n",
      "2025-10-15 14:49:51.241772: I tensorflow/core/grappler/optimizers/custom_graph_optimizer_registry.cc:114] Plugin optimizer for device_type GPU is enabled.\n"
     ]
    },
    {
     "name": "stdout",
     "output_type": "stream",
     "text": [
      "roc score 0.5288978738669352\n",
      "114/114 [==============================] - 14s 121ms/step - loss: 0.3291 - val_loss: 0.3197\n",
      "Epoch 6/40\n",
      "114/114 [==============================] - 4s 36ms/step - loss: 0.3136 - val_loss: 0.3060\n",
      "Epoch 7/40\n",
      "114/114 [==============================] - 4s 34ms/step - loss: 0.3012 - val_loss: 0.2969\n",
      "Epoch 8/40\n",
      "114/114 [==============================] - 4s 36ms/step - loss: 0.2951 - val_loss: 0.2925\n",
      "Epoch 9/40\n",
      "114/114 [==============================] - 4s 32ms/step - loss: 0.2912 - val_loss: 0.2894\n",
      "Epoch 10/40\n",
      "114/114 [==============================] - ETA: 0s - loss: 0.2886roc score 0.5400663464747786\n",
      "114/114 [==============================] - 12s 105ms/step - loss: 0.2886 - val_loss: 0.2875\n",
      "Epoch 11/40\n",
      "114/114 [==============================] - 4s 32ms/step - loss: 0.2870 - val_loss: 0.2863\n",
      "Epoch 12/40\n",
      "114/114 [==============================] - 4s 31ms/step - loss: 0.2859 - val_loss: 0.2854\n",
      "Epoch 13/40\n",
      "114/114 [==============================] - 4s 31ms/step - loss: 0.2851 - val_loss: 0.2849\n",
      "Epoch 14/40\n",
      "114/114 [==============================] - 4s 31ms/step - loss: 0.2845 - val_loss: 0.2845\n",
      "Epoch 15/40\n",
      "113/114 [============================>.] - ETA: 0s - loss: 0.2840roc score 0.5433507088470818\n",
      "114/114 [==============================] - 12s 103ms/step - loss: 0.2841 - val_loss: 0.2841\n",
      "Epoch 16/40\n",
      "114/114 [==============================] - 4s 35ms/step - loss: 0.2837 - val_loss: 0.2838\n",
      "Epoch 17/40\n",
      "114/114 [==============================] - 4s 34ms/step - loss: 0.2835 - val_loss: 0.2837\n",
      "Epoch 18/40\n",
      "114/114 [==============================] - 4s 35ms/step - loss: 0.2833 - val_loss: 0.2835\n",
      "Epoch 19/40\n",
      "114/114 [==============================] - 4s 34ms/step - loss: 0.2831 - val_loss: 0.2834\n",
      "Epoch 20/40\n",
      "113/114 [============================>.] - ETA: 0s - loss: 0.2831roc score 0.5450610169027124\n",
      "114/114 [==============================] - 12s 104ms/step - loss: 0.2830 - val_loss: 0.2833\n",
      "Epoch 21/40\n",
      "114/114 [==============================] - 4s 35ms/step - loss: 0.2828 - val_loss: 0.2831\n",
      "Epoch 22/40\n",
      "114/114 [==============================] - 4s 34ms/step - loss: 0.2827 - val_loss: 0.2829\n",
      "Epoch 23/40\n",
      "114/114 [==============================] - 4s 35ms/step - loss: 0.2826 - val_loss: 0.2828\n",
      "Epoch 24/40\n",
      "114/114 [==============================] - 4s 35ms/step - loss: 0.2824 - val_loss: 0.2827\n",
      "Epoch 25/40\n",
      "114/114 [==============================] - ETA: 0s - loss: 0.2823roc score 0.5497036608734108\n",
      "114/114 [==============================] - 12s 105ms/step - loss: 0.2823 - val_loss: 0.2825\n",
      "Epoch 26/40\n",
      "114/114 [==============================] - 4s 34ms/step - loss: 0.2822 - val_loss: 0.2824\n",
      "Epoch 27/40\n",
      "114/114 [==============================] - 4s 34ms/step - loss: 0.2820 - val_loss: 0.2822\n",
      "Epoch 28/40\n",
      "114/114 [==============================] - 4s 35ms/step - loss: 0.2819 - val_loss: 0.2820\n",
      "Epoch 29/40\n",
      "114/114 [==============================] - 4s 37ms/step - loss: 0.2817 - val_loss: 0.2819\n",
      "Epoch 30/40\n",
      "113/114 [============================>.] - ETA: 0s - loss: 0.2816roc score 0.5574315227754931\n",
      "114/114 [==============================] - 12s 109ms/step - loss: 0.2815 - val_loss: 0.2817\n",
      "Epoch 31/40\n",
      "114/114 [==============================] - 4s 37ms/step - loss: 0.2814 - val_loss: 0.2816\n",
      "Epoch 32/40\n",
      "114/114 [==============================] - 4s 35ms/step - loss: 0.2812 - val_loss: 0.2813\n",
      "Epoch 33/40\n",
      "114/114 [==============================] - 4s 35ms/step - loss: 0.2810 - val_loss: 0.2811\n",
      "Epoch 34/40\n",
      "114/114 [==============================] - 4s 36ms/step - loss: 0.2808 - val_loss: 0.2809\n",
      "Epoch 35/40\n",
      "114/114 [==============================] - ETA: 0s - loss: 0.2806roc score 0.568350399192822\n",
      "114/114 [==============================] - 13s 117ms/step - loss: 0.2806 - val_loss: 0.2807\n",
      "Epoch 36/40\n",
      "114/114 [==============================] - 4s 38ms/step - loss: 0.2804 - val_loss: 0.2805\n",
      "Epoch 37/40\n",
      "114/114 [==============================] - 4s 36ms/step - loss: 0.2802 - val_loss: 0.2803\n",
      "Epoch 38/40\n",
      "114/114 [==============================] - 4s 36ms/step - loss: 0.2800 - val_loss: 0.2802\n",
      "Epoch 39/40\n",
      "114/114 [==============================] - 4s 35ms/step - loss: 0.2798 - val_loss: 0.2800\n",
      "Epoch 40/40\n",
      "114/114 [==============================] - ETA: 0s - loss: 0.2797roc score 0.5780544241445746\n",
      "114/114 [==============================] - 15s 130ms/step - loss: 0.2797 - val_loss: 0.2799\n",
      "1823/1823 [==============================] - 10s 5ms/step\n",
      "1499/1499 [==============================] - 8s 5ms/step\n",
      "Fold  1 AUC : 0.578054\n",
      "Epoch 1/40\n"
     ]
    },
    {
     "name": "stderr",
     "output_type": "stream",
     "text": [
      "2025-10-15 14:53:46.400088: I tensorflow/core/grappler/optimizers/custom_graph_optimizer_registry.cc:114] Plugin optimizer for device_type GPU is enabled.\n",
      "2025-10-15 14:53:46.583916: I tensorflow/core/grappler/optimizers/custom_graph_optimizer_registry.cc:114] Plugin optimizer for device_type GPU is enabled.\n"
     ]
    },
    {
     "name": "stdout",
     "output_type": "stream",
     "text": [
      "  3/114 [..............................] - ETA: 4s - loss: 0.7700  "
     ]
    },
    {
     "name": "stderr",
     "output_type": "stream",
     "text": [
      "2025-10-15 14:53:46.735565: I tensorflow/core/grappler/optimizers/custom_graph_optimizer_registry.cc:114] Plugin optimizer for device_type GPU is enabled.\n"
     ]
    },
    {
     "name": "stdout",
     "output_type": "stream",
     "text": [
      "114/114 [==============================] - ETA: 0s - loss: 0.6379"
     ]
    },
    {
     "name": "stderr",
     "output_type": "stream",
     "text": [
      "2025-10-15 14:53:50.955233: I tensorflow/core/grappler/optimizers/custom_graph_optimizer_registry.cc:114] Plugin optimizer for device_type GPU is enabled.\n",
      "2025-10-15 14:53:51.017137: I tensorflow/core/grappler/optimizers/custom_graph_optimizer_registry.cc:114] Plugin optimizer for device_type GPU is enabled.\n"
     ]
    },
    {
     "name": "stdout",
     "output_type": "stream",
     "text": [
      "114/114 [==============================] - 6s 41ms/step - loss: 0.6379 - val_loss: 0.4830\n",
      "Epoch 2/40\n",
      "114/114 [==============================] - 4s 31ms/step - loss: 0.4126 - val_loss: 0.3608\n",
      "Epoch 3/40\n",
      "114/114 [==============================] - 4s 31ms/step - loss: 0.3312 - val_loss: 0.3130\n",
      "Epoch 4/40\n",
      "114/114 [==============================] - 4s 32ms/step - loss: 0.3074 - val_loss: 0.3032\n",
      "Epoch 5/40\n",
      "113/114 [============================>.] - ETA: 0s - loss: 0.3007"
     ]
    },
    {
     "name": "stderr",
     "output_type": "stream",
     "text": [
      "2025-10-15 14:54:06.668026: I tensorflow/core/grappler/optimizers/custom_graph_optimizer_registry.cc:114] Plugin optimizer for device_type GPU is enabled.\n",
      "2025-10-15 14:54:06.710736: I tensorflow/core/grappler/optimizers/custom_graph_optimizer_registry.cc:114] Plugin optimizer for device_type GPU is enabled.\n"
     ]
    },
    {
     "name": "stdout",
     "output_type": "stream",
     "text": [
      "roc score 0.529554570060615\n",
      "114/114 [==============================] - 12s 105ms/step - loss: 0.3005 - val_loss: 0.2982\n",
      "Epoch 6/40\n",
      "114/114 [==============================] - 4s 32ms/step - loss: 0.2963 - val_loss: 0.2947\n",
      "Epoch 7/40\n",
      "114/114 [==============================] - 4s 31ms/step - loss: 0.2932 - val_loss: 0.2919\n",
      "Epoch 8/40\n",
      "114/114 [==============================] - 4s 31ms/step - loss: 0.2907 - val_loss: 0.2901\n",
      "Epoch 9/40\n",
      "114/114 [==============================] - 4s 31ms/step - loss: 0.2892 - val_loss: 0.2888\n",
      "Epoch 10/40\n",
      "113/114 [============================>.] - ETA: 0s - loss: 0.2881roc score 0.5275344042818649\n",
      "114/114 [==============================] - 11s 99ms/step - loss: 0.2882 - val_loss: 0.2879\n",
      "Epoch 11/40\n",
      "114/114 [==============================] - 4s 32ms/step - loss: 0.2874 - val_loss: 0.2873\n",
      "Epoch 12/40\n",
      "114/114 [==============================] - 4s 31ms/step - loss: 0.2868 - val_loss: 0.2868\n",
      "Epoch 13/40\n",
      "114/114 [==============================] - 4s 31ms/step - loss: 0.2863 - val_loss: 0.2864\n",
      "Epoch 14/40\n",
      "114/114 [==============================] - 4s 31ms/step - loss: 0.2860 - val_loss: 0.2861\n",
      "Epoch 15/40\n",
      "114/114 [==============================] - ETA: 0s - loss: 0.2857roc score 0.5302037948876575\n",
      "114/114 [==============================] - 11s 97ms/step - loss: 0.2857 - val_loss: 0.2858\n",
      "Epoch 16/40\n",
      "114/114 [==============================] - 4s 31ms/step - loss: 0.2854 - val_loss: 0.2856\n",
      "Epoch 17/40\n",
      "114/114 [==============================] - 4s 31ms/step - loss: 0.2852 - val_loss: 0.2854\n",
      "Epoch 18/40\n",
      "114/114 [==============================] - 3s 30ms/step - loss: 0.2850 - val_loss: 0.2852\n",
      "Epoch 19/40\n",
      "114/114 [==============================] - 3s 30ms/step - loss: 0.2849 - val_loss: 0.2850\n",
      "Epoch 20/40\n",
      "114/114 [==============================] - ETA: 0s - loss: 0.2847roc score 0.5323510839086525\n",
      "114/114 [==============================] - 12s 102ms/step - loss: 0.2847 - val_loss: 0.2849\n",
      "Epoch 21/40\n",
      "114/114 [==============================] - 4s 32ms/step - loss: 0.2845 - val_loss: 0.2847\n",
      "Epoch 22/40\n",
      "114/114 [==============================] - 4s 31ms/step - loss: 0.2844 - val_loss: 0.2846\n",
      "Epoch 23/40\n",
      "114/114 [==============================] - 3s 31ms/step - loss: 0.2843 - val_loss: 0.2844\n",
      "Epoch 24/40\n",
      "114/114 [==============================] - 4s 31ms/step - loss: 0.2841 - val_loss: 0.2843\n",
      "Epoch 25/40\n",
      "113/114 [============================>.] - ETA: 0s - loss: 0.2838roc score 0.5354802326056569\n",
      "114/114 [==============================] - 11s 98ms/step - loss: 0.2840 - val_loss: 0.2842\n",
      "Epoch 26/40\n",
      "114/114 [==============================] - 4s 32ms/step - loss: 0.2838 - val_loss: 0.2840\n",
      "Epoch 27/40\n",
      "114/114 [==============================] - 4s 31ms/step - loss: 0.2837 - val_loss: 0.2839\n",
      "Epoch 28/40\n",
      "114/114 [==============================] - 4s 31ms/step - loss: 0.2835 - val_loss: 0.2838\n",
      "Epoch 29/40\n",
      "114/114 [==============================] - 4s 31ms/step - loss: 0.2833 - val_loss: 0.2836\n",
      "Epoch 30/40\n",
      "113/114 [============================>.] - ETA: 0s - loss: 0.2833roc score 0.5417348091381855\n",
      "114/114 [==============================] - 11s 98ms/step - loss: 0.2831 - val_loss: 0.2834\n",
      "Epoch 31/40\n",
      "114/114 [==============================] - 4s 32ms/step - loss: 0.2829 - val_loss: 0.2833\n",
      "Epoch 32/40\n",
      "114/114 [==============================] - 4s 31ms/step - loss: 0.2827 - val_loss: 0.2831\n",
      "Epoch 33/40\n",
      "114/114 [==============================] - 3s 31ms/step - loss: 0.2826 - val_loss: 0.2830\n",
      "Epoch 34/40\n",
      "114/114 [==============================] - 4s 31ms/step - loss: 0.2825 - val_loss: 0.2829\n",
      "Epoch 35/40\n",
      "114/114 [==============================] - ETA: 0s - loss: 0.2824roc score 0.5472157651903731\n",
      "114/114 [==============================] - 11s 98ms/step - loss: 0.2824 - val_loss: 0.2827\n",
      "Epoch 36/40\n",
      "114/114 [==============================] - 4s 33ms/step - loss: 0.2823 - val_loss: 0.2827\n",
      "Epoch 37/40\n",
      "114/114 [==============================] - 3s 31ms/step - loss: 0.2822 - val_loss: 0.2826\n",
      "Epoch 38/40\n",
      "114/114 [==============================] - 4s 31ms/step - loss: 0.2821 - val_loss: 0.2825\n",
      "Epoch 39/40\n",
      "114/114 [==============================] - 3s 30ms/step - loss: 0.2820 - val_loss: 0.2824\n",
      "Epoch 40/40\n",
      "113/114 [============================>.] - ETA: 0s - loss: 0.2819roc score 0.5505394173752695\n",
      "114/114 [==============================] - 12s 106ms/step - loss: 0.2819 - val_loss: 0.2823\n",
      "1823/1823 [==============================] - 10s 5ms/step\n",
      "1499/1499 [==============================] - 7s 5ms/step\n",
      "Fold  2 AUC : 0.550539\n",
      "Epoch 1/40\n"
     ]
    },
    {
     "name": "stderr",
     "output_type": "stream",
     "text": [
      "2025-10-15 14:57:39.511610: I tensorflow/core/grappler/optimizers/custom_graph_optimizer_registry.cc:114] Plugin optimizer for device_type GPU is enabled.\n",
      "2025-10-15 14:57:39.844427: I tensorflow/core/grappler/optimizers/custom_graph_optimizer_registry.cc:114] Plugin optimizer for device_type GPU is enabled.\n"
     ]
    },
    {
     "name": "stdout",
     "output_type": "stream",
     "text": [
      "  1/114 [..............................] - ETA: 2:31 - loss: 1.2308"
     ]
    },
    {
     "name": "stderr",
     "output_type": "stream",
     "text": [
      "2025-10-15 14:57:40.160546: I tensorflow/core/grappler/optimizers/custom_graph_optimizer_registry.cc:114] Plugin optimizer for device_type GPU is enabled.\n"
     ]
    },
    {
     "name": "stdout",
     "output_type": "stream",
     "text": [
      "114/114 [==============================] - ETA: 0s - loss: 1.0260"
     ]
    },
    {
     "name": "stderr",
     "output_type": "stream",
     "text": [
      "2025-10-15 14:57:44.841967: I tensorflow/core/grappler/optimizers/custom_graph_optimizer_registry.cc:114] Plugin optimizer for device_type GPU is enabled.\n",
      "2025-10-15 14:57:44.918493: I tensorflow/core/grappler/optimizers/custom_graph_optimizer_registry.cc:114] Plugin optimizer for device_type GPU is enabled.\n"
     ]
    },
    {
     "name": "stdout",
     "output_type": "stream",
     "text": [
      "114/114 [==============================] - 6s 45ms/step - loss: 1.0260 - val_loss: 0.6516\n",
      "Epoch 2/40\n",
      "114/114 [==============================] - 4s 34ms/step - loss: 0.5375 - val_loss: 0.4785\n",
      "Epoch 3/40\n",
      "114/114 [==============================] - 4s 32ms/step - loss: 0.4443 - val_loss: 0.4156\n",
      "Epoch 4/40\n",
      "114/114 [==============================] - 4s 32ms/step - loss: 0.3918 - val_loss: 0.3715\n",
      "Epoch 5/40\n",
      "113/114 [============================>.] - ETA: 0s - loss: 0.3500"
     ]
    },
    {
     "name": "stderr",
     "output_type": "stream",
     "text": [
      "2025-10-15 14:58:01.317074: I tensorflow/core/grappler/optimizers/custom_graph_optimizer_registry.cc:114] Plugin optimizer for device_type GPU is enabled.\n",
      "2025-10-15 14:58:01.359121: I tensorflow/core/grappler/optimizers/custom_graph_optimizer_registry.cc:114] Plugin optimizer for device_type GPU is enabled.\n"
     ]
    },
    {
     "name": "stdout",
     "output_type": "stream",
     "text": [
      "roc score 0.5095677348322103\n",
      "114/114 [==============================] - 12s 106ms/step - loss: 0.3498 - val_loss: 0.3242\n",
      "Epoch 6/40\n",
      "114/114 [==============================] - 4s 32ms/step - loss: 0.3135 - val_loss: 0.3066\n",
      "Epoch 7/40\n",
      "114/114 [==============================] - 4s 32ms/step - loss: 0.3032 - val_loss: 0.2998\n",
      "Epoch 8/40\n",
      "114/114 [==============================] - 4s 31ms/step - loss: 0.2978 - val_loss: 0.2954\n",
      "Epoch 9/40\n",
      "114/114 [==============================] - 4s 32ms/step - loss: 0.2939 - val_loss: 0.2919\n",
      "Epoch 10/40\n",
      "113/114 [============================>.] - ETA: 0s - loss: 0.2908roc score 0.5161057850890631\n",
      "114/114 [==============================] - 11s 100ms/step - loss: 0.2906 - val_loss: 0.2892\n",
      "Epoch 11/40\n",
      "114/114 [==============================] - 4s 32ms/step - loss: 0.2880 - val_loss: 0.2865\n",
      "Epoch 12/40\n",
      "114/114 [==============================] - 4s 31ms/step - loss: 0.2851 - val_loss: 0.2843\n",
      "Epoch 13/40\n",
      "114/114 [==============================] - 3s 30ms/step - loss: 0.2843 - val_loss: 0.2840\n",
      "Epoch 14/40\n",
      "114/114 [==============================] - 3s 31ms/step - loss: 0.2841 - val_loss: 0.2837\n",
      "Epoch 15/40\n",
      "113/114 [============================>.] - ETA: 0s - loss: 0.2838roc score 0.5339561360681698\n",
      "114/114 [==============================] - 11s 98ms/step - loss: 0.2839 - val_loss: 0.2835\n",
      "Epoch 16/40\n",
      "114/114 [==============================] - 4s 33ms/step - loss: 0.2837 - val_loss: 0.2833\n",
      "Epoch 17/40\n",
      "114/114 [==============================] - 3s 30ms/step - loss: 0.2835 - val_loss: 0.2831\n",
      "Epoch 18/40\n",
      "114/114 [==============================] - 4s 31ms/step - loss: 0.2834 - val_loss: 0.2830\n",
      "Epoch 19/40\n",
      "114/114 [==============================] - 4s 31ms/step - loss: 0.2832 - val_loss: 0.2828\n",
      "Epoch 20/40\n",
      "114/114 [==============================] - ETA: 0s - loss: 0.2830roc score 0.5493811892561542\n",
      "114/114 [==============================] - 12s 102ms/step - loss: 0.2830 - val_loss: 0.2824\n",
      "Epoch 21/40\n",
      "114/114 [==============================] - 4s 33ms/step - loss: 0.2828 - val_loss: 0.2822\n",
      "Epoch 22/40\n",
      "114/114 [==============================] - 4s 33ms/step - loss: 0.2825 - val_loss: 0.2819\n",
      "Epoch 23/40\n",
      "114/114 [==============================] - 4s 31ms/step - loss: 0.2823 - val_loss: 0.2817\n",
      "Epoch 24/40\n",
      "114/114 [==============================] - 4s 31ms/step - loss: 0.2821 - val_loss: 0.2815\n",
      "Epoch 25/40\n",
      "114/114 [==============================] - ETA: 0s - loss: 0.2819roc score 0.5637625300450277\n",
      "114/114 [==============================] - 12s 105ms/step - loss: 0.2819 - val_loss: 0.2812\n",
      "Epoch 26/40\n",
      "114/114 [==============================] - 4s 33ms/step - loss: 0.2817 - val_loss: 0.2810\n",
      "Epoch 27/40\n",
      "114/114 [==============================] - 4s 32ms/step - loss: 0.2815 - val_loss: 0.2809\n",
      "Epoch 28/40\n",
      "114/114 [==============================] - 4s 36ms/step - loss: 0.2813 - val_loss: 0.2807\n",
      "Epoch 29/40\n",
      "114/114 [==============================] - 5s 40ms/step - loss: 0.2812 - val_loss: 0.2805\n",
      "Epoch 30/40\n",
      "114/114 [==============================] - ETA: 0s - loss: 0.2810roc score 0.5750901952073818\n",
      "114/114 [==============================] - 13s 110ms/step - loss: 0.2810 - val_loss: 0.2804\n",
      "Epoch 31/40\n",
      "114/114 [==============================] - 4s 34ms/step - loss: 0.2809 - val_loss: 0.2803\n",
      "Epoch 32/40\n",
      "114/114 [==============================] - 4s 31ms/step - loss: 0.2808 - val_loss: 0.2802\n",
      "Epoch 33/40\n",
      "114/114 [==============================] - 4s 32ms/step - loss: 0.2806 - val_loss: 0.2801\n",
      "Epoch 34/40\n",
      "114/114 [==============================] - 4s 31ms/step - loss: 0.2805 - val_loss: 0.2800\n",
      "Epoch 35/40\n",
      "113/114 [============================>.] - ETA: 0s - loss: 0.2805roc score 0.5808133103212162\n",
      "114/114 [==============================] - 12s 103ms/step - loss: 0.2805 - val_loss: 0.2799\n",
      "Epoch 36/40\n",
      "114/114 [==============================] - 4s 32ms/step - loss: 0.2804 - val_loss: 0.2799\n",
      "Epoch 37/40\n",
      "114/114 [==============================] - 3s 30ms/step - loss: 0.2803 - val_loss: 0.2798\n",
      "Epoch 38/40\n",
      "114/114 [==============================] - 3s 31ms/step - loss: 0.2803 - val_loss: 0.2797\n",
      "Epoch 39/40\n",
      "114/114 [==============================] - 3s 30ms/step - loss: 0.2802 - val_loss: 0.2797\n",
      "Epoch 40/40\n",
      "113/114 [============================>.] - ETA: 0s - loss: 0.2800roc score 0.5844984706926922\n",
      "114/114 [==============================] - 11s 101ms/step - loss: 0.2801 - val_loss: 0.2796\n",
      "1823/1823 [==============================] - 7s 4ms/step\n",
      "1499/1499 [==============================] - 7s 5ms/step\n",
      "Fold  3 AUC : 0.584498\n",
      "Epoch 1/40\n"
     ]
    },
    {
     "name": "stderr",
     "output_type": "stream",
     "text": [
      "2025-10-15 15:01:37.271278: I tensorflow/core/grappler/optimizers/custom_graph_optimizer_registry.cc:114] Plugin optimizer for device_type GPU is enabled.\n",
      "2025-10-15 15:01:37.479572: I tensorflow/core/grappler/optimizers/custom_graph_optimizer_registry.cc:114] Plugin optimizer for device_type GPU is enabled.\n",
      "2025-10-15 15:01:37.647073: I tensorflow/core/grappler/optimizers/custom_graph_optimizer_registry.cc:114] Plugin optimizer for device_type GPU is enabled.\n"
     ]
    },
    {
     "name": "stdout",
     "output_type": "stream",
     "text": [
      "114/114 [==============================] - ETA: 0s - loss: 1.4729"
     ]
    },
    {
     "name": "stderr",
     "output_type": "stream",
     "text": [
      "2025-10-15 15:01:42.247463: I tensorflow/core/grappler/optimizers/custom_graph_optimizer_registry.cc:114] Plugin optimizer for device_type GPU is enabled.\n",
      "2025-10-15 15:01:42.307208: I tensorflow/core/grappler/optimizers/custom_graph_optimizer_registry.cc:114] Plugin optimizer for device_type GPU is enabled.\n"
     ]
    },
    {
     "name": "stdout",
     "output_type": "stream",
     "text": [
      "114/114 [==============================] - 6s 44ms/step - loss: 1.4729 - val_loss: 1.2130\n",
      "Epoch 2/40\n",
      "114/114 [==============================] - 4s 31ms/step - loss: 0.6964 - val_loss: 0.4237\n",
      "Epoch 3/40\n",
      "114/114 [==============================] - 3s 30ms/step - loss: 0.3865 - val_loss: 0.3667\n",
      "Epoch 4/40\n",
      "114/114 [==============================] - 4s 31ms/step - loss: 0.3548 - val_loss: 0.3466\n",
      "Epoch 5/40\n",
      "113/114 [============================>.] - ETA: 0s - loss: 0.3390"
     ]
    },
    {
     "name": "stderr",
     "output_type": "stream",
     "text": [
      "2025-10-15 15:01:57.459919: I tensorflow/core/grappler/optimizers/custom_graph_optimizer_registry.cc:114] Plugin optimizer for device_type GPU is enabled.\n",
      "2025-10-15 15:01:57.498601: I tensorflow/core/grappler/optimizers/custom_graph_optimizer_registry.cc:114] Plugin optimizer for device_type GPU is enabled.\n"
     ]
    },
    {
     "name": "stdout",
     "output_type": "stream",
     "text": [
      "roc score 0.4853761801564101\n",
      "114/114 [==============================] - 11s 99ms/step - loss: 0.3389 - val_loss: 0.3328\n",
      "Epoch 6/40\n",
      "114/114 [==============================] - 4s 31ms/step - loss: 0.3274 - val_loss: 0.3228\n",
      "Epoch 7/40\n",
      "114/114 [==============================] - 3s 30ms/step - loss: 0.3141 - val_loss: 0.3017\n",
      "Epoch 8/40\n",
      "114/114 [==============================] - 4s 31ms/step - loss: 0.2989 - val_loss: 0.2956\n",
      "Epoch 9/40\n",
      "114/114 [==============================] - 4s 31ms/step - loss: 0.2945 - val_loss: 0.2922\n",
      "Epoch 10/40\n",
      "113/114 [============================>.] - ETA: 0s - loss: 0.2918roc score 0.5138667580181614\n",
      "114/114 [==============================] - 12s 103ms/step - loss: 0.2919 - val_loss: 0.2902\n",
      "Epoch 11/40\n",
      "114/114 [==============================] - 4s 32ms/step - loss: 0.2903 - val_loss: 0.2889\n",
      "Epoch 12/40\n",
      "114/114 [==============================] - 4s 32ms/step - loss: 0.2893 - val_loss: 0.2882\n",
      "Epoch 13/40\n",
      "114/114 [==============================] - 4s 31ms/step - loss: 0.2886 - val_loss: 0.2877\n",
      "Epoch 14/40\n",
      "114/114 [==============================] - 3s 30ms/step - loss: 0.2882 - val_loss: 0.2874\n",
      "Epoch 15/40\n",
      "113/114 [============================>.] - ETA: 0s - loss: 0.2879roc score 0.5292379335908656\n",
      "114/114 [==============================] - 11s 95ms/step - loss: 0.2879 - val_loss: 0.2871\n",
      "Epoch 16/40\n",
      "114/114 [==============================] - 4s 32ms/step - loss: 0.2876 - val_loss: 0.2869\n",
      "Epoch 17/40\n",
      "114/114 [==============================] - 3s 30ms/step - loss: 0.2874 - val_loss: 0.2867\n",
      "Epoch 18/40\n",
      "114/114 [==============================] - 3s 31ms/step - loss: 0.2871 - val_loss: 0.2865\n",
      "Epoch 19/40\n",
      "114/114 [==============================] - 4s 34ms/step - loss: 0.2869 - val_loss: 0.2863\n",
      "Epoch 20/40\n",
      "113/114 [============================>.] - ETA: 0s - loss: 0.2865roc score 0.5338023642087504\n",
      "114/114 [==============================] - 11s 97ms/step - loss: 0.2866 - val_loss: 0.2861\n",
      "Epoch 21/40\n",
      "114/114 [==============================] - 4s 32ms/step - loss: 0.2864 - val_loss: 0.2859\n",
      "Epoch 22/40\n",
      "114/114 [==============================] - 4s 31ms/step - loss: 0.2861 - val_loss: 0.2857\n",
      "Epoch 23/40\n",
      "114/114 [==============================] - 4s 31ms/step - loss: 0.2859 - val_loss: 0.2855\n",
      "Epoch 24/40\n",
      "114/114 [==============================] - 4s 31ms/step - loss: 0.2856 - val_loss: 0.2853\n",
      "Epoch 25/40\n",
      "113/114 [============================>.] - ETA: 0s - loss: 0.2853roc score 0.5377026995715846\n",
      "114/114 [==============================] - 12s 103ms/step - loss: 0.2854 - val_loss: 0.2851\n",
      "Epoch 26/40\n",
      "114/114 [==============================] - 4s 32ms/step - loss: 0.2852 - val_loss: 0.2849\n",
      "Epoch 27/40\n",
      "114/114 [==============================] - 3s 30ms/step - loss: 0.2849 - val_loss: 0.2847\n",
      "Epoch 28/40\n",
      "114/114 [==============================] - 3s 31ms/step - loss: 0.2847 - val_loss: 0.2846\n",
      "Epoch 29/40\n",
      "114/114 [==============================] - 3s 30ms/step - loss: 0.2845 - val_loss: 0.2844\n",
      "Epoch 30/40\n",
      "114/114 [==============================] - ETA: 0s - loss: 0.2843roc score 0.542273408649434\n",
      "114/114 [==============================] - 11s 99ms/step - loss: 0.2843 - val_loss: 0.2842\n",
      "Epoch 31/40\n",
      "114/114 [==============================] - 4s 33ms/step - loss: 0.2841 - val_loss: 0.2841\n",
      "Epoch 32/40\n",
      "114/114 [==============================] - 4s 32ms/step - loss: 0.2839 - val_loss: 0.2839\n",
      "Epoch 33/40\n",
      "114/114 [==============================] - 4s 33ms/step - loss: 0.2837 - val_loss: 0.2837\n",
      "Epoch 34/40\n",
      "114/114 [==============================] - 4s 31ms/step - loss: 0.2835 - val_loss: 0.2834\n",
      "Epoch 35/40\n",
      "114/114 [==============================] - ETA: 0s - loss: 0.2833roc score 0.5482992383236728\n",
      "114/114 [==============================] - 11s 100ms/step - loss: 0.2833 - val_loss: 0.2832\n",
      "Epoch 36/40\n",
      "114/114 [==============================] - 4s 32ms/step - loss: 0.2831 - val_loss: 0.2830\n",
      "Epoch 37/40\n",
      "114/114 [==============================] - 3s 30ms/step - loss: 0.2829 - val_loss: 0.2826\n",
      "Epoch 38/40\n",
      "114/114 [==============================] - 4s 31ms/step - loss: 0.2825 - val_loss: 0.2823\n",
      "Epoch 39/40\n",
      "114/114 [==============================] - 4s 31ms/step - loss: 0.2821 - val_loss: 0.2817\n",
      "Epoch 40/40\n",
      "114/114 [==============================] - ETA: 0s - loss: 0.2816roc score 0.5696448192488861\n",
      "114/114 [==============================] - 12s 106ms/step - loss: 0.2816 - val_loss: 0.2812\n",
      "1823/1823 [==============================] - 8s 4ms/step\n",
      "1499/1499 [==============================] - 7s 5ms/step\n",
      "Fold  4 AUC : 0.569645\n",
      "Epoch 1/40\n"
     ]
    },
    {
     "name": "stderr",
     "output_type": "stream",
     "text": [
      "2025-10-15 15:05:29.201512: I tensorflow/core/grappler/optimizers/custom_graph_optimizer_registry.cc:114] Plugin optimizer for device_type GPU is enabled.\n",
      "2025-10-15 15:05:29.383625: I tensorflow/core/grappler/optimizers/custom_graph_optimizer_registry.cc:114] Plugin optimizer for device_type GPU is enabled.\n"
     ]
    },
    {
     "name": "stdout",
     "output_type": "stream",
     "text": [
      "  3/114 [..............................] - ETA: 4s - loss: 0.6131  "
     ]
    },
    {
     "name": "stderr",
     "output_type": "stream",
     "text": [
      "2025-10-15 15:05:29.519019: I tensorflow/core/grappler/optimizers/custom_graph_optimizer_registry.cc:114] Plugin optimizer for device_type GPU is enabled.\n"
     ]
    },
    {
     "name": "stdout",
     "output_type": "stream",
     "text": [
      "114/114 [==============================] - ETA: 0s - loss: 0.5057"
     ]
    },
    {
     "name": "stderr",
     "output_type": "stream",
     "text": [
      "2025-10-15 15:05:33.854866: I tensorflow/core/grappler/optimizers/custom_graph_optimizer_registry.cc:114] Plugin optimizer for device_type GPU is enabled.\n",
      "2025-10-15 15:05:33.911361: I tensorflow/core/grappler/optimizers/custom_graph_optimizer_registry.cc:114] Plugin optimizer for device_type GPU is enabled.\n"
     ]
    },
    {
     "name": "stdout",
     "output_type": "stream",
     "text": [
      "114/114 [==============================] - 6s 42ms/step - loss: 0.5057 - val_loss: 0.4347\n",
      "Epoch 2/40\n",
      "114/114 [==============================] - 4s 34ms/step - loss: 0.3956 - val_loss: 0.3635\n",
      "Epoch 3/40\n",
      "114/114 [==============================] - 4s 32ms/step - loss: 0.3372 - val_loss: 0.3163\n",
      "Epoch 4/40\n",
      "114/114 [==============================] - 4s 31ms/step - loss: 0.3045 - val_loss: 0.2970\n",
      "Epoch 5/40\n",
      "113/114 [============================>.] - ETA: 0s - loss: 0.2935"
     ]
    },
    {
     "name": "stderr",
     "output_type": "stream",
     "text": [
      "2025-10-15 15:05:49.891020: I tensorflow/core/grappler/optimizers/custom_graph_optimizer_registry.cc:114] Plugin optimizer for device_type GPU is enabled.\n",
      "2025-10-15 15:05:49.932264: I tensorflow/core/grappler/optimizers/custom_graph_optimizer_registry.cc:114] Plugin optimizer for device_type GPU is enabled.\n"
     ]
    },
    {
     "name": "stdout",
     "output_type": "stream",
     "text": [
      "roc score 0.5282985207295254\n",
      "114/114 [==============================] - 11s 99ms/step - loss: 0.2935 - val_loss: 0.2902\n",
      "Epoch 6/40\n",
      "114/114 [==============================] - 4s 32ms/step - loss: 0.2888 - val_loss: 0.2877\n",
      "Epoch 7/40\n",
      "114/114 [==============================] - 4s 31ms/step - loss: 0.2869 - val_loss: 0.2863\n",
      "Epoch 8/40\n",
      "114/114 [==============================] - 4s 31ms/step - loss: 0.2857 - val_loss: 0.2853\n",
      "Epoch 9/40\n",
      "114/114 [==============================] - 4s 32ms/step - loss: 0.2850 - val_loss: 0.2848\n",
      "Epoch 10/40\n",
      "113/114 [============================>.] - ETA: 0s - loss: 0.2846roc score 0.536234848033797\n",
      "114/114 [==============================] - 12s 109ms/step - loss: 0.2847 - val_loss: 0.2845\n",
      "Epoch 11/40\n",
      "114/114 [==============================] - 4s 34ms/step - loss: 0.2844 - val_loss: 0.2843\n",
      "Epoch 12/40\n",
      "114/114 [==============================] - 4s 32ms/step - loss: 0.2842 - val_loss: 0.2841\n",
      "Epoch 13/40\n",
      "114/114 [==============================] - 4s 31ms/step - loss: 0.2841 - val_loss: 0.2839\n",
      "Epoch 14/40\n",
      "114/114 [==============================] - 4s 32ms/step - loss: 0.2839 - val_loss: 0.2838\n",
      "Epoch 15/40\n",
      "114/114 [==============================] - ETA: 0s - loss: 0.2837roc score 0.5414267785605158\n",
      "114/114 [==============================] - 14s 123ms/step - loss: 0.2837 - val_loss: 0.2837\n",
      "Epoch 16/40\n",
      "114/114 [==============================] - 4s 33ms/step - loss: 0.2835 - val_loss: 0.2836\n",
      "Epoch 17/40\n",
      "114/114 [==============================] - 4s 31ms/step - loss: 0.2834 - val_loss: 0.2833\n",
      "Epoch 18/40\n",
      "114/114 [==============================] - 4s 31ms/step - loss: 0.2832 - val_loss: 0.2831\n",
      "Epoch 19/40\n",
      "114/114 [==============================] - 3s 31ms/step - loss: 0.2831 - val_loss: 0.2830\n",
      "Epoch 20/40\n",
      "113/114 [============================>.] - ETA: 0s - loss: 0.2829roc score 0.5494424029510131\n",
      "114/114 [==============================] - 11s 97ms/step - loss: 0.2829 - val_loss: 0.2828\n",
      "Epoch 21/40\n",
      "114/114 [==============================] - 4s 32ms/step - loss: 0.2827 - val_loss: 0.2826\n",
      "Epoch 22/40\n",
      "114/114 [==============================] - 4s 31ms/step - loss: 0.2825 - val_loss: 0.2824\n",
      "Epoch 23/40\n",
      "114/114 [==============================] - 4s 31ms/step - loss: 0.2822 - val_loss: 0.2821\n",
      "Epoch 24/40\n",
      "114/114 [==============================] - 3s 30ms/step - loss: 0.2819 - val_loss: 0.2818\n",
      "Epoch 25/40\n",
      "113/114 [============================>.] - ETA: 0s - loss: 0.2816roc score 0.5617518408880648\n",
      "114/114 [==============================] - 11s 97ms/step - loss: 0.2817 - val_loss: 0.2816\n",
      "Epoch 26/40\n",
      "114/114 [==============================] - 4s 33ms/step - loss: 0.2815 - val_loss: 0.2815\n",
      "Epoch 27/40\n",
      "114/114 [==============================] - 4s 32ms/step - loss: 0.2814 - val_loss: 0.2814\n",
      "Epoch 28/40\n",
      "114/114 [==============================] - 4s 32ms/step - loss: 0.2813 - val_loss: 0.2812\n",
      "Epoch 29/40\n",
      "114/114 [==============================] - 4s 33ms/step - loss: 0.2812 - val_loss: 0.2811\n",
      "Epoch 30/40\n",
      "114/114 [==============================] - ETA: 0s - loss: 0.2811roc score 0.564736672766217\n",
      "114/114 [==============================] - 12s 105ms/step - loss: 0.2811 - val_loss: 0.2810\n",
      "Epoch 31/40\n",
      "114/114 [==============================] - 4s 33ms/step - loss: 0.2810 - val_loss: 0.2809\n",
      "Epoch 32/40\n",
      "114/114 [==============================] - 4s 31ms/step - loss: 0.2809 - val_loss: 0.2808\n",
      "Epoch 33/40\n",
      "114/114 [==============================] - 4s 31ms/step - loss: 0.2809 - val_loss: 0.2807\n",
      "Epoch 34/40\n",
      "114/114 [==============================] - 4s 34ms/step - loss: 0.2808 - val_loss: 0.2807\n",
      "Epoch 35/40\n",
      "113/114 [============================>.] - ETA: 0s - loss: 0.2805roc score 0.5679662570416371\n",
      "114/114 [==============================] - 11s 100ms/step - loss: 0.2807 - val_loss: 0.2807\n",
      "Epoch 36/40\n",
      "114/114 [==============================] - 4s 33ms/step - loss: 0.2806 - val_loss: 0.2805\n",
      "Epoch 37/40\n",
      "114/114 [==============================] - 3s 30ms/step - loss: 0.2805 - val_loss: 0.2804\n",
      "Epoch 38/40\n",
      "114/114 [==============================] - 4s 33ms/step - loss: 0.2805 - val_loss: 0.2804\n",
      "Epoch 39/40\n",
      "114/114 [==============================] - 4s 35ms/step - loss: 0.2804 - val_loss: 0.2803\n",
      "Epoch 40/40\n",
      "113/114 [============================>.] - ETA: 0s - loss: 0.2805roc score 0.5710124715711978\n",
      "114/114 [==============================] - 12s 104ms/step - loss: 0.2804 - val_loss: 0.2802\n",
      "1823/1823 [==============================] - 9s 5ms/step\n",
      "1499/1499 [==============================] - 7s 5ms/step\n",
      "Fold  5 AUC : 0.571012\n"
     ]
    }
   ],
   "source": [
    "from tensorflow.keras.optimizers.legacy import Adam # for mac only\n",
    "\n",
    "# Run a 5 fold\n",
    "folds = StratifiedKFold(n_splits=5, shuffle=True, random_state=777)\n",
    "oof_preds = np.zeros(train_x.shape[0])\n",
    "sub_preds = np.zeros(test_x.shape[0])\n",
    "\n",
    "for n_fold, (trn_idx, val_idx) in enumerate(folds.split(train_x, train_y)):\n",
    "    trn_x, val_x = train_x[trn_idx], train_x[val_idx]\n",
    "    trn_y, val_y = train_y.values[trn_idx], train_y.values[val_idx]\n",
    "\n",
    "    ival = IntervalEvaluation(validation_data=(val_x, val_y), interval=5)\n",
    "    model = build_model(trn_x.shape[1],trn_x.shape[2])\n",
    "    model.compile(loss='binary_crossentropy', optimizer=Adam(learning_rate=1e-4))\n",
    "    model.fit(trn_x, trn_y,\n",
    "              validation_data = (val_x, val_y),\n",
    "              epochs=40, batch_size=2048, \n",
    "              #class_weight = {0:1,1:10},\n",
    "              callbacks=[ival], verbose=1)\n",
    "    \n",
    "    oof_preds[val_idx] = model.predict(val_x)[:,0]\n",
    "    sub_preds += model.predict(test_x)[:,0] / folds.n_splits\n",
    "    \n",
    "    print('Fold %2d AUC : %.6f' % (n_fold + 1, roc_auc_score(val_y, oof_preds[val_idx])))\n",
    "  \n",
    "    del model, trn_x, trn_y, val_x, val_y\n",
    "    gc.collect()"
   ]
  },
  {
   "cell_type": "markdown",
   "metadata": {},
   "source": [
    "Save model prediction to disk."
   ]
  },
  {
   "cell_type": "code",
   "execution_count": 22,
   "metadata": {
    "_uuid": "702835883349074834b30bdf194820d98cd36631"
   },
   "outputs": [],
   "source": [
    "inst_score_train = pd.DataFrame({'inst_score':oof_preds}, index=trn_id)\n",
    "inst_score_test = pd.DataFrame({'inst_score':sub_preds}, index=test_id)             \n",
    "inst_score_train.to_csv('../output/inst_score_train.csv')\n",
    "inst_score_test.to_csv('../output/inst_score_test.csv')"
   ]
  }
 ],
 "metadata": {
  "kernelspec": {
   "display_name": "tf26",
   "language": "python",
   "name": "python3"
  },
  "language_info": {
   "codemirror_mode": {
    "name": "ipython",
    "version": 3
   },
   "file_extension": ".py",
   "mimetype": "text/x-python",
   "name": "python",
   "nbconvert_exporter": "python",
   "pygments_lexer": "ipython3",
   "version": "3.9.0"
  }
 },
 "nbformat": 4,
 "nbformat_minor": 1
}
