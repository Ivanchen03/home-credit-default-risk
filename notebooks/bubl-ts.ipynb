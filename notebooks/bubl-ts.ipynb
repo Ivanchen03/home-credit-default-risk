{
 "cells": [
  {
   "cell_type": "markdown",
   "metadata": {},
   "source": [
    "## bureau balance time series feature extraction\n",
    "\n",
    "Train GRU network on bureau balance time series data. Save prediction to be used as features in final training."
   ]
  },
  {
   "cell_type": "code",
   "execution_count": 1,
   "metadata": {
    "_cell_guid": "b1076dfc-b9ad-4769-8c92-a6c4dae69d19",
    "_uuid": "8f2839f25d086af736a60e9eeb907d3b93b6e0e5"
   },
   "outputs": [
    {
     "name": "stdout",
     "output_type": "stream",
     "text": [
      "['download_command.txt', 'application_test.csv', 'HomeCredit_columns_description.csv', 'POS_CASH_balance.csv', 'credit_card_balance.csv', 'installments_payments.csv', 'application_train.csv', 'bureau.csv', 'previous_application.csv', 'bureau_balance.csv', 'sample_submission.csv']\n"
     ]
    }
   ],
   "source": [
    "import pandas as pd\n",
    "import numpy as np\n",
    "\n",
    "from sklearn.linear_model import LinearRegression, Ridge\n",
    "from sklearn.metrics import roc_auc_score, roc_curve\n",
    "from sklearn.model_selection import KFold, StratifiedKFold, train_test_split\n",
    "from sklearn.preprocessing import StandardScaler, MinMaxScaler, MaxAbsScaler\n",
    "import gc\n",
    "\n",
    "import os\n",
    "print(os.listdir(\"../input\"))\n",
    "    \n",
    "gc.enable()"
   ]
  },
  {
   "cell_type": "markdown",
   "metadata": {},
   "source": [
    "Read bureau balance data and create features."
   ]
  },
  {
   "cell_type": "code",
   "execution_count": 2,
   "metadata": {
    "_uuid": "eb661a5087dac82b7d73bf5184538fe2f0b03d6c"
   },
   "outputs": [
    {
     "data": {
      "text/html": [
       "<div>\n",
       "<style scoped>\n",
       "    .dataframe tbody tr th:only-of-type {\n",
       "        vertical-align: middle;\n",
       "    }\n",
       "\n",
       "    .dataframe tbody tr th {\n",
       "        vertical-align: top;\n",
       "    }\n",
       "\n",
       "    .dataframe thead th {\n",
       "        text-align: right;\n",
       "    }\n",
       "</style>\n",
       "<table border=\"1\" class=\"dataframe\">\n",
       "  <thead>\n",
       "    <tr style=\"text-align: right;\">\n",
       "      <th></th>\n",
       "      <th>SK_ID_CURR</th>\n",
       "      <th>SK_ID_BUREAU</th>\n",
       "      <th>CREDIT_ACTIVE</th>\n",
       "      <th>CREDIT_CURRENCY</th>\n",
       "      <th>DAYS_CREDIT</th>\n",
       "      <th>CREDIT_DAY_OVERDUE</th>\n",
       "      <th>DAYS_CREDIT_ENDDATE</th>\n",
       "      <th>DAYS_ENDDATE_FACT</th>\n",
       "      <th>AMT_CREDIT_MAX_OVERDUE</th>\n",
       "      <th>CNT_CREDIT_PROLONG</th>\n",
       "      <th>AMT_CREDIT_SUM</th>\n",
       "      <th>AMT_CREDIT_SUM_DEBT</th>\n",
       "      <th>AMT_CREDIT_SUM_LIMIT</th>\n",
       "      <th>AMT_CREDIT_SUM_OVERDUE</th>\n",
       "      <th>CREDIT_TYPE</th>\n",
       "      <th>DAYS_CREDIT_UPDATE</th>\n",
       "      <th>AMT_ANNUITY</th>\n",
       "    </tr>\n",
       "  </thead>\n",
       "  <tbody>\n",
       "    <tr>\n",
       "      <th>0</th>\n",
       "      <td>215354</td>\n",
       "      <td>5714462</td>\n",
       "      <td>Closed</td>\n",
       "      <td>currency 1</td>\n",
       "      <td>-497</td>\n",
       "      <td>0</td>\n",
       "      <td>-153.0</td>\n",
       "      <td>-153.0</td>\n",
       "      <td>NaN</td>\n",
       "      <td>0</td>\n",
       "      <td>91323.0</td>\n",
       "      <td>0.0</td>\n",
       "      <td>NaN</td>\n",
       "      <td>0.0</td>\n",
       "      <td>Consumer credit</td>\n",
       "      <td>-131</td>\n",
       "      <td>NaN</td>\n",
       "    </tr>\n",
       "    <tr>\n",
       "      <th>1</th>\n",
       "      <td>215354</td>\n",
       "      <td>5714463</td>\n",
       "      <td>Active</td>\n",
       "      <td>currency 1</td>\n",
       "      <td>-208</td>\n",
       "      <td>0</td>\n",
       "      <td>1075.0</td>\n",
       "      <td>NaN</td>\n",
       "      <td>NaN</td>\n",
       "      <td>0</td>\n",
       "      <td>225000.0</td>\n",
       "      <td>171342.0</td>\n",
       "      <td>NaN</td>\n",
       "      <td>0.0</td>\n",
       "      <td>Credit card</td>\n",
       "      <td>-20</td>\n",
       "      <td>NaN</td>\n",
       "    </tr>\n",
       "    <tr>\n",
       "      <th>2</th>\n",
       "      <td>215354</td>\n",
       "      <td>5714464</td>\n",
       "      <td>Active</td>\n",
       "      <td>currency 1</td>\n",
       "      <td>-203</td>\n",
       "      <td>0</td>\n",
       "      <td>528.0</td>\n",
       "      <td>NaN</td>\n",
       "      <td>NaN</td>\n",
       "      <td>0</td>\n",
       "      <td>464323.5</td>\n",
       "      <td>NaN</td>\n",
       "      <td>NaN</td>\n",
       "      <td>0.0</td>\n",
       "      <td>Consumer credit</td>\n",
       "      <td>-16</td>\n",
       "      <td>NaN</td>\n",
       "    </tr>\n",
       "    <tr>\n",
       "      <th>3</th>\n",
       "      <td>215354</td>\n",
       "      <td>5714465</td>\n",
       "      <td>Active</td>\n",
       "      <td>currency 1</td>\n",
       "      <td>-203</td>\n",
       "      <td>0</td>\n",
       "      <td>NaN</td>\n",
       "      <td>NaN</td>\n",
       "      <td>NaN</td>\n",
       "      <td>0</td>\n",
       "      <td>90000.0</td>\n",
       "      <td>NaN</td>\n",
       "      <td>NaN</td>\n",
       "      <td>0.0</td>\n",
       "      <td>Credit card</td>\n",
       "      <td>-16</td>\n",
       "      <td>NaN</td>\n",
       "    </tr>\n",
       "    <tr>\n",
       "      <th>4</th>\n",
       "      <td>215354</td>\n",
       "      <td>5714466</td>\n",
       "      <td>Active</td>\n",
       "      <td>currency 1</td>\n",
       "      <td>-629</td>\n",
       "      <td>0</td>\n",
       "      <td>1197.0</td>\n",
       "      <td>NaN</td>\n",
       "      <td>77674.5</td>\n",
       "      <td>0</td>\n",
       "      <td>2700000.0</td>\n",
       "      <td>NaN</td>\n",
       "      <td>NaN</td>\n",
       "      <td>0.0</td>\n",
       "      <td>Consumer credit</td>\n",
       "      <td>-21</td>\n",
       "      <td>NaN</td>\n",
       "    </tr>\n",
       "  </tbody>\n",
       "</table>\n",
       "</div>"
      ],
      "text/plain": [
       "   SK_ID_CURR  SK_ID_BUREAU CREDIT_ACTIVE CREDIT_CURRENCY  DAYS_CREDIT  \\\n",
       "0      215354       5714462        Closed      currency 1         -497   \n",
       "1      215354       5714463        Active      currency 1         -208   \n",
       "2      215354       5714464        Active      currency 1         -203   \n",
       "3      215354       5714465        Active      currency 1         -203   \n",
       "4      215354       5714466        Active      currency 1         -629   \n",
       "\n",
       "   CREDIT_DAY_OVERDUE  DAYS_CREDIT_ENDDATE  DAYS_ENDDATE_FACT  \\\n",
       "0                   0               -153.0             -153.0   \n",
       "1                   0               1075.0                NaN   \n",
       "2                   0                528.0                NaN   \n",
       "3                   0                  NaN                NaN   \n",
       "4                   0               1197.0                NaN   \n",
       "\n",
       "   AMT_CREDIT_MAX_OVERDUE  CNT_CREDIT_PROLONG  AMT_CREDIT_SUM  \\\n",
       "0                     NaN                   0         91323.0   \n",
       "1                     NaN                   0        225000.0   \n",
       "2                     NaN                   0        464323.5   \n",
       "3                     NaN                   0         90000.0   \n",
       "4                 77674.5                   0       2700000.0   \n",
       "\n",
       "   AMT_CREDIT_SUM_DEBT  AMT_CREDIT_SUM_LIMIT  AMT_CREDIT_SUM_OVERDUE  \\\n",
       "0                  0.0                   NaN                     0.0   \n",
       "1             171342.0                   NaN                     0.0   \n",
       "2                  NaN                   NaN                     0.0   \n",
       "3                  NaN                   NaN                     0.0   \n",
       "4                  NaN                   NaN                     0.0   \n",
       "\n",
       "       CREDIT_TYPE  DAYS_CREDIT_UPDATE  AMT_ANNUITY  \n",
       "0  Consumer credit                -131          NaN  \n",
       "1      Credit card                 -20          NaN  \n",
       "2  Consumer credit                 -16          NaN  \n",
       "3      Credit card                 -16          NaN  \n",
       "4  Consumer credit                 -21          NaN  "
      ]
     },
     "execution_count": 2,
     "metadata": {},
     "output_type": "execute_result"
    }
   ],
   "source": [
    "buro = pd.read_csv('../input/bureau.csv')\n",
    "buro_id_map = buro.groupby('SK_ID_BUREAU')['SK_ID_CURR'].min()\n",
    "buro.head()"
   ]
  },
  {
   "cell_type": "code",
   "execution_count": 3,
   "metadata": {
    "_uuid": "016df6e0b485c38002f0609323ab2c68a5cc1d97"
   },
   "outputs": [
    {
     "name": "stderr",
     "output_type": "stream",
     "text": [
      "/var/folders/cm/wy6qs4m10756wz1k16wsjx000000gn/T/ipykernel_74627/3190563928.py:8: SettingWithCopyWarning: \n",
      "A value is trying to be set on a copy of a slice from a DataFrame\n",
      "\n",
      "See the caveats in the documentation: https://pandas.pydata.org/pandas-docs/stable/user_guide/indexing.html#returning-a-view-versus-a-copy\n",
      "  bubl['STATUS_COMPLETE'].loc[bubl['STATUS']=='C'] = 1\n",
      "/var/folders/cm/wy6qs4m10756wz1k16wsjx000000gn/T/ipykernel_74627/3190563928.py:10: SettingWithCopyWarning: \n",
      "A value is trying to be set on a copy of a slice from a DataFrame\n",
      "\n",
      "See the caveats in the documentation: https://pandas.pydata.org/pandas-docs/stable/user_guide/indexing.html#returning-a-view-versus-a-copy\n",
      "  bubl['STATUS_X'].loc[bubl['STATUS']=='X'] = 1\n",
      "/var/folders/cm/wy6qs4m10756wz1k16wsjx000000gn/T/ipykernel_74627/3190563928.py:12: SettingWithCopyWarning: \n",
      "A value is trying to be set on a copy of a slice from a DataFrame\n",
      "\n",
      "See the caveats in the documentation: https://pandas.pydata.org/pandas-docs/stable/user_guide/indexing.html#returning-a-view-versus-a-copy\n",
      "  bubl['STATUS_DPD'].loc[bubl['STATUS'].isin(['0','1','2','3','4','5'])] = bubl['STATUS']\n",
      "/var/folders/cm/wy6qs4m10756wz1k16wsjx000000gn/T/ipykernel_74627/3190563928.py:12: FutureWarning: Setting an item of incompatible dtype is deprecated and will raise in a future error of pandas. Value '['0' '0' '0' ... '0' '0' '0']' has dtype incompatible with int64, please explicitly cast to a compatible dtype first.\n",
      "  bubl['STATUS_DPD'].loc[bubl['STATUS'].isin(['0','1','2','3','4','5'])] = bubl['STATUS']\n"
     ]
    },
    {
     "data": {
      "text/html": [
       "<div>\n",
       "<style scoped>\n",
       "    .dataframe tbody tr th:only-of-type {\n",
       "        vertical-align: middle;\n",
       "    }\n",
       "\n",
       "    .dataframe tbody tr th {\n",
       "        vertical-align: top;\n",
       "    }\n",
       "\n",
       "    .dataframe thead th {\n",
       "        text-align: right;\n",
       "    }\n",
       "</style>\n",
       "<table border=\"1\" class=\"dataframe\">\n",
       "  <thead>\n",
       "    <tr style=\"text-align: right;\">\n",
       "      <th></th>\n",
       "      <th>SK_ID_BUREAU</th>\n",
       "      <th>MONTHS_BALANCE</th>\n",
       "      <th>STATUS</th>\n",
       "      <th>STATUS_COMPLETE</th>\n",
       "      <th>STATUS_X</th>\n",
       "      <th>STATUS_DPD</th>\n",
       "      <th>SK_ID_CURR</th>\n",
       "    </tr>\n",
       "  </thead>\n",
       "  <tbody>\n",
       "    <tr>\n",
       "      <th>0</th>\n",
       "      <td>5715448</td>\n",
       "      <td>0</td>\n",
       "      <td>C</td>\n",
       "      <td>1</td>\n",
       "      <td>0</td>\n",
       "      <td>-1</td>\n",
       "      <td>380361</td>\n",
       "    </tr>\n",
       "    <tr>\n",
       "      <th>1</th>\n",
       "      <td>5715448</td>\n",
       "      <td>-1</td>\n",
       "      <td>C</td>\n",
       "      <td>1</td>\n",
       "      <td>0</td>\n",
       "      <td>-1</td>\n",
       "      <td>380361</td>\n",
       "    </tr>\n",
       "    <tr>\n",
       "      <th>2</th>\n",
       "      <td>5715448</td>\n",
       "      <td>-2</td>\n",
       "      <td>C</td>\n",
       "      <td>1</td>\n",
       "      <td>0</td>\n",
       "      <td>-1</td>\n",
       "      <td>380361</td>\n",
       "    </tr>\n",
       "    <tr>\n",
       "      <th>3</th>\n",
       "      <td>5715448</td>\n",
       "      <td>-3</td>\n",
       "      <td>C</td>\n",
       "      <td>1</td>\n",
       "      <td>0</td>\n",
       "      <td>-1</td>\n",
       "      <td>380361</td>\n",
       "    </tr>\n",
       "    <tr>\n",
       "      <th>4</th>\n",
       "      <td>5715448</td>\n",
       "      <td>-4</td>\n",
       "      <td>C</td>\n",
       "      <td>1</td>\n",
       "      <td>0</td>\n",
       "      <td>-1</td>\n",
       "      <td>380361</td>\n",
       "    </tr>\n",
       "  </tbody>\n",
       "</table>\n",
       "</div>"
      ],
      "text/plain": [
       "   SK_ID_BUREAU  MONTHS_BALANCE STATUS  STATUS_COMPLETE  STATUS_X  STATUS_DPD  \\\n",
       "0       5715448               0      C                1         0          -1   \n",
       "1       5715448              -1      C                1         0          -1   \n",
       "2       5715448              -2      C                1         0          -1   \n",
       "3       5715448              -3      C                1         0          -1   \n",
       "4       5715448              -4      C                1         0          -1   \n",
       "\n",
       "   SK_ID_CURR  \n",
       "0      380361  \n",
       "1      380361  \n",
       "2      380361  \n",
       "3      380361  \n",
       "4      380361  "
      ]
     },
     "execution_count": 3,
     "metadata": {},
     "output_type": "execute_result"
    }
   ],
   "source": [
    "#buro has 1716428 SK_ID_BUREAU\n",
    "#bubl has 817395 SK_ID_BUREAU\n",
    "#942074 buro_id in buro not present in bubl\n",
    "#43041 buro_id in bubl not present in buro\n",
    "#interesting...\n",
    "bubl = pd.read_csv('../input/bureau_balance.csv')\n",
    "bubl['STATUS_COMPLETE'] = 0\n",
    "bubl['STATUS_COMPLETE'].loc[bubl['STATUS']=='C'] = 1\n",
    "bubl['STATUS_X'] = 0\n",
    "bubl['STATUS_X'].loc[bubl['STATUS']=='X'] = 1\n",
    "bubl['STATUS_DPD'] = -1\n",
    "bubl['STATUS_DPD'].loc[bubl['STATUS'].isin(['0','1','2','3','4','5'])] = bubl['STATUS']\n",
    "bubl['STATUS_DPD'] = bubl['STATUS_DPD'].astype('int32')\n",
    "bubl['SK_ID_CURR'] = bubl['SK_ID_BUREAU'].map(buro_id_map)\n",
    "bubl = bubl.loc[bubl['SK_ID_CURR'].notna()]\n",
    "bubl['SK_ID_CURR'] = bubl['SK_ID_CURR'].astype('int')\n",
    "bubl.head()"
   ]
  },
  {
   "cell_type": "markdown",
   "metadata": {},
   "source": [
    "Read target from main table."
   ]
  },
  {
   "cell_type": "code",
   "execution_count": 4,
   "metadata": {
    "_uuid": "3ba57fe82d915842f663fc21409af9f0ffc1abf8"
   },
   "outputs": [
    {
     "data": {
      "text/plain": [
       "((307511, 2), (48744, 1))"
      ]
     },
     "execution_count": 4,
     "metadata": {},
     "output_type": "execute_result"
    }
   ],
   "source": [
    "data_app = pd.read_csv('../input/application_train.csv',usecols=['SK_ID_CURR','TARGET'])\n",
    "data_test = pd.read_csv('../input/application_test.csv',usecols=['SK_ID_CURR'])\n",
    "data_app.shape, data_test.shape"
   ]
  },
  {
   "cell_type": "code",
   "execution_count": 5,
   "metadata": {
    "_uuid": "f9bbf170359e06f5c1bc257cc54e027cc396abb3"
   },
   "outputs": [
    {
     "data": {
      "text/plain": [
       "((92231,), (42311,))"
      ]
     },
     "execution_count": 5,
     "metadata": {},
     "output_type": "execute_result"
    }
   ],
   "source": [
    "trn_id = data_app['SK_ID_CURR'].loc[data_app.SK_ID_CURR.isin(bubl.SK_ID_CURR)]\n",
    "test_id = data_test['SK_ID_CURR'].loc[data_test['SK_ID_CURR'].isin(bubl.SK_ID_CURR)]\n",
    "trn_id.shape, test_id.shape"
   ]
  },
  {
   "cell_type": "markdown",
   "metadata": {},
   "source": [
    "Split train and test set. Groupby ID and month to create time series."
   ]
  },
  {
   "cell_type": "code",
   "execution_count": 6,
   "metadata": {
    "_uuid": "0c6a308c58c959d41ba6fdaa9492133bfc5d0489"
   },
   "outputs": [
    {
     "data": {
      "text/html": [
       "<div>\n",
       "<style scoped>\n",
       "    .dataframe tbody tr th:only-of-type {\n",
       "        vertical-align: middle;\n",
       "    }\n",
       "\n",
       "    .dataframe tbody tr th {\n",
       "        vertical-align: top;\n",
       "    }\n",
       "\n",
       "    .dataframe thead th {\n",
       "        text-align: right;\n",
       "    }\n",
       "</style>\n",
       "<table border=\"1\" class=\"dataframe\">\n",
       "  <thead>\n",
       "    <tr style=\"text-align: right;\">\n",
       "      <th></th>\n",
       "      <th></th>\n",
       "      <th>SK_ID_BUREAU_COUNT</th>\n",
       "      <th>STATUS_COMPLETE_SUM</th>\n",
       "      <th>STATUS_X_SUM</th>\n",
       "      <th>STATUS_DPD_SUM</th>\n",
       "      <th>STATUS_DPD_MEAN</th>\n",
       "      <th>STATUS_DPD_MAX</th>\n",
       "    </tr>\n",
       "    <tr>\n",
       "      <th>SK_ID_CURR</th>\n",
       "      <th>MONTHS_BALANCE</th>\n",
       "      <th></th>\n",
       "      <th></th>\n",
       "      <th></th>\n",
       "      <th></th>\n",
       "      <th></th>\n",
       "      <th></th>\n",
       "    </tr>\n",
       "  </thead>\n",
       "  <tbody>\n",
       "    <tr>\n",
       "      <th rowspan=\"5\" valign=\"top\">100001</th>\n",
       "      <th>-51</th>\n",
       "      <td>1</td>\n",
       "      <td>0</td>\n",
       "      <td>1</td>\n",
       "      <td>-1</td>\n",
       "      <td>-1.000000</td>\n",
       "      <td>-1</td>\n",
       "    </tr>\n",
       "    <tr>\n",
       "      <th>-50</th>\n",
       "      <td>1</td>\n",
       "      <td>0</td>\n",
       "      <td>1</td>\n",
       "      <td>-1</td>\n",
       "      <td>-1.000000</td>\n",
       "      <td>-1</td>\n",
       "    </tr>\n",
       "    <tr>\n",
       "      <th>-49</th>\n",
       "      <td>1</td>\n",
       "      <td>0</td>\n",
       "      <td>1</td>\n",
       "      <td>-1</td>\n",
       "      <td>-1.000000</td>\n",
       "      <td>-1</td>\n",
       "    </tr>\n",
       "    <tr>\n",
       "      <th>-48</th>\n",
       "      <td>1</td>\n",
       "      <td>0</td>\n",
       "      <td>1</td>\n",
       "      <td>-1</td>\n",
       "      <td>-1.000000</td>\n",
       "      <td>-1</td>\n",
       "    </tr>\n",
       "    <tr>\n",
       "      <th>-47</th>\n",
       "      <td>1</td>\n",
       "      <td>0</td>\n",
       "      <td>1</td>\n",
       "      <td>-1</td>\n",
       "      <td>-1.000000</td>\n",
       "      <td>-1</td>\n",
       "    </tr>\n",
       "    <tr>\n",
       "      <th>...</th>\n",
       "      <th>...</th>\n",
       "      <td>...</td>\n",
       "      <td>...</td>\n",
       "      <td>...</td>\n",
       "      <td>...</td>\n",
       "      <td>...</td>\n",
       "      <td>...</td>\n",
       "    </tr>\n",
       "    <tr>\n",
       "      <th rowspan=\"5\" valign=\"top\">456250</th>\n",
       "      <th>-4</th>\n",
       "      <td>3</td>\n",
       "      <td>1</td>\n",
       "      <td>2</td>\n",
       "      <td>-3</td>\n",
       "      <td>-1.000000</td>\n",
       "      <td>-1</td>\n",
       "    </tr>\n",
       "    <tr>\n",
       "      <th>-3</th>\n",
       "      <td>3</td>\n",
       "      <td>1</td>\n",
       "      <td>2</td>\n",
       "      <td>-3</td>\n",
       "      <td>-1.000000</td>\n",
       "      <td>-1</td>\n",
       "    </tr>\n",
       "    <tr>\n",
       "      <th>-2</th>\n",
       "      <td>3</td>\n",
       "      <td>1</td>\n",
       "      <td>1</td>\n",
       "      <td>-2</td>\n",
       "      <td>-0.666667</td>\n",
       "      <td>0</td>\n",
       "    </tr>\n",
       "    <tr>\n",
       "      <th>-1</th>\n",
       "      <td>3</td>\n",
       "      <td>1</td>\n",
       "      <td>0</td>\n",
       "      <td>-1</td>\n",
       "      <td>-0.333333</td>\n",
       "      <td>0</td>\n",
       "    </tr>\n",
       "    <tr>\n",
       "      <th>0</th>\n",
       "      <td>3</td>\n",
       "      <td>1</td>\n",
       "      <td>1</td>\n",
       "      <td>-2</td>\n",
       "      <td>-0.666667</td>\n",
       "      <td>0</td>\n",
       "    </tr>\n",
       "  </tbody>\n",
       "</table>\n",
       "<p>2492971 rows × 6 columns</p>\n",
       "</div>"
      ],
      "text/plain": [
       "                           SK_ID_BUREAU_COUNT  STATUS_COMPLETE_SUM  \\\n",
       "SK_ID_CURR MONTHS_BALANCE                                            \n",
       "100001     -51                              1                    0   \n",
       "           -50                              1                    0   \n",
       "           -49                              1                    0   \n",
       "           -48                              1                    0   \n",
       "           -47                              1                    0   \n",
       "...                                       ...                  ...   \n",
       "456250     -4                               3                    1   \n",
       "           -3                               3                    1   \n",
       "           -2                               3                    1   \n",
       "           -1                               3                    1   \n",
       "            0                               3                    1   \n",
       "\n",
       "                           STATUS_X_SUM  STATUS_DPD_SUM  STATUS_DPD_MEAN  \\\n",
       "SK_ID_CURR MONTHS_BALANCE                                                  \n",
       "100001     -51                        1              -1        -1.000000   \n",
       "           -50                        1              -1        -1.000000   \n",
       "           -49                        1              -1        -1.000000   \n",
       "           -48                        1              -1        -1.000000   \n",
       "           -47                        1              -1        -1.000000   \n",
       "...                                 ...             ...              ...   \n",
       "456250     -4                         2              -3        -1.000000   \n",
       "           -3                         2              -3        -1.000000   \n",
       "           -2                         1              -2        -0.666667   \n",
       "           -1                         0              -1        -0.333333   \n",
       "            0                         1              -2        -0.666667   \n",
       "\n",
       "                           STATUS_DPD_MAX  \n",
       "SK_ID_CURR MONTHS_BALANCE                  \n",
       "100001     -51                         -1  \n",
       "           -50                         -1  \n",
       "           -49                         -1  \n",
       "           -48                         -1  \n",
       "           -47                         -1  \n",
       "...                                   ...  \n",
       "456250     -4                          -1  \n",
       "           -3                          -1  \n",
       "           -2                           0  \n",
       "           -1                           0  \n",
       "            0                           0  \n",
       "\n",
       "[2492971 rows x 6 columns]"
      ]
     },
     "execution_count": 6,
     "metadata": {},
     "output_type": "execute_result"
    }
   ],
   "source": [
    "bubl_trn = bubl.loc[bubl.SK_ID_CURR.isin(trn_id)]\n",
    "bubl_test = bubl.loc[bubl.SK_ID_CURR.isin(test_id)]\n",
    "num_aggregations = {\n",
    "    'SK_ID_BUREAU' : ['count'],\n",
    "    'STATUS_COMPLETE': ['sum'],\n",
    "    'STATUS_X': ['sum'],\n",
    "    'STATUS_DPD': ['sum','mean','max'],\n",
    "}\n",
    "bubl_trn = bubl_trn.groupby(['SK_ID_CURR','MONTHS_BALANCE']).agg(num_aggregations)\n",
    "bubl_test = bubl_test.groupby(['SK_ID_CURR','MONTHS_BALANCE']).agg(num_aggregations)\n",
    "bubl_trn.columns = pd.Index([e[0] + \"_\" + e[1].upper() for e in bubl_trn.columns.tolist()])\n",
    "bubl_test.columns = pd.Index([e[0] + \"_\" + e[1].upper() for e in bubl_test.columns.tolist()])\n",
    "bubl_test"
   ]
  },
  {
   "cell_type": "code",
   "execution_count": 7,
   "metadata": {},
   "outputs": [
    {
     "name": "stdout",
     "output_type": "stream",
     "text": [
      "--- Sequence Length per Customer (First 5) ---\n",
      "SK_ID_CURR\n",
      "100002    48\n",
      "100010    72\n",
      "100019    17\n",
      "100032    46\n",
      "100033     7\n",
      "dtype: int64\n",
      "\n",
      "==================================================\n",
      "\n",
      "--- Descriptive Statistics of Sequence Lengths ---\n",
      "count    92231.000000\n",
      "mean        52.831358\n",
      "std         27.969322\n",
      "min          1.000000\n",
      "25%         29.000000\n",
      "50%         52.000000\n",
      "75%         80.000000\n",
      "max         97.000000\n",
      "dtype: float64\n",
      "\n",
      "==================================================\n",
      "\n",
      "--- Generating Visualizations ---\n"
     ]
    },
    {
     "name": "stderr",
     "output_type": "stream",
     "text": [
      "/Users/chenzeyu/opt/miniforge3/envs/tf26/lib/python3.9/site-packages/seaborn/_oldcore.py:1498: FutureWarning: is_categorical_dtype is deprecated and will be removed in a future version. Use isinstance(dtype, CategoricalDtype) instead\n",
      "  if pd.api.types.is_categorical_dtype(vector):\n",
      "/Users/chenzeyu/opt/miniforge3/envs/tf26/lib/python3.9/site-packages/seaborn/_oldcore.py:1119: FutureWarning: use_inf_as_na option is deprecated and will be removed in a future version. Convert inf values to NaN before operating instead.\n",
      "  with pd.option_context('mode.use_inf_as_na', True):\n"
     ]
    },
    {
     "data": {
      "image/png": "[encoded data removed]",
      "text/plain": [
       "<Figure size 1400x600 with 1 Axes>"
      ]
     },
     "metadata": {},
     "output_type": "display_data"
    },
    {
     "name": "stderr",
     "output_type": "stream",
     "text": [
      "/Users/chenzeyu/opt/miniforge3/envs/tf26/lib/python3.9/site-packages/seaborn/_oldcore.py:1498: FutureWarning: is_categorical_dtype is deprecated and will be removed in a future version. Use isinstance(dtype, CategoricalDtype) instead\n",
      "  if pd.api.types.is_categorical_dtype(vector):\n"
     ]
    },
    {
     "data": {
      "image/png": "[encoded data removed]",
      "text/plain": [
       "<Figure size 1400x400 with 1 Axes>"
      ]
     },
     "metadata": {},
     "output_type": "display_data"
    }
   ],
   "source": [
    "import pandas as pd\n",
    "import numpy as np\n",
    "import matplotlib.pyplot as plt\n",
    "import seaborn as sns\n",
    "\n",
    "# Assume bubl_trn is your MultiIndex DataFrame created from the previous step.\n",
    "# If it's not a MultiIndex DataFrame, you might need to run:\n",
    "# bubl_trn.reset_index(inplace=True)\n",
    "\n",
    "# --- 1. Calculate the sequence length for each SK_ID_CURR ---\n",
    "\n",
    "# If bubl_trn has a MultiIndex, 'SK_ID_CURR' is the first level (level=0)\n",
    "if isinstance(bubl_trn.index, pd.MultiIndex):\n",
    "    sequence_lengths = bubl_trn.groupby(level=0).size()\n",
    "else:\n",
    "    # If you have reset the index, group by the column name\n",
    "    sequence_lengths = bubl_trn.groupby('SK_ID_CURR').size()\n",
    "    \n",
    "# sequence_lengths is now a Pandas Series where the\n",
    "# Index is SK_ID_CURR and the Value is the sequence length.\n",
    "print(\"--- Sequence Length per Customer (First 5) ---\")\n",
    "print(sequence_lengths.head())\n",
    "print(\"\\n\" + \"=\"*50 + \"\\n\")\n",
    "\n",
    "\n",
    "# --- 2. Display descriptive statistics ---\n",
    "\n",
    "print(\"--- Descriptive Statistics of Sequence Lengths ---\")\n",
    "# .describe() provides a quick summary: mean, median, quartiles, etc.\n",
    "print(sequence_lengths.describe())\n",
    "print(\"\\n\" + \"=\"*50 + \"\\n\")\n",
    "\n",
    "\n",
    "# --- 3. Visualize the distribution ---\n",
    "\n",
    "print(\"--- Generating Visualizations ---\")\n",
    "# Set a nice plot style\n",
    "sns.set_style(\"whitegrid\")\n",
    "\n",
    "# Create a figure to hold the plot\n",
    "plt.figure(figsize=(14, 6))\n",
    "\n",
    "# Plot a histogram and a Kernel Density Estimate (KDE)\n",
    "sns.histplot(sequence_lengths, bins=50, kde=True)\n",
    "\n",
    "# Add a title and labels\n",
    "plt.title('Distribution of Sequence Lengths Before Padding', fontsize=16)\n",
    "plt.xlabel('Sequence Length (Months)', fontsize=12)\n",
    "plt.ylabel('Number of Customers', fontsize=12)\n",
    "\n",
    "# Add vertical lines for key statistics\n",
    "plt.axvline(sequence_lengths.mean(), color='r', linestyle='--', label=f'Mean: {sequence_lengths.mean():.2f}')\n",
    "plt.axvline(sequence_lengths.median(), color='g', linestyle='-', label=f'Median: {sequence_lengths.median():.2f}')\n",
    "plt.legend()\n",
    "\n",
    "# Display the plot\n",
    "plt.show()\n",
    "\n",
    "# Create a box plot to better see the quartiles and outliers\n",
    "plt.figure(figsize=(14, 4))\n",
    "sns.boxplot(x=sequence_lengths)\n",
    "plt.title('Box Plot of Sequence Lengths (to observe outliers)', fontsize=16)\n",
    "plt.xlabel('Sequence Length (Months)', fontsize=12)\n",
    "plt.show()"
   ]
  },
  {
   "cell_type": "markdown",
   "metadata": {},
   "source": [
    "Convert dataframe to 3D array (n_sample * n_time_step * n_features) for GRU network training."
   ]
  },
  {
   "cell_type": "code",
   "execution_count": null,
   "metadata": {
    "_uuid": "cec4687df3722ac66e8b6676321ec5da963b1af0"
   },
   "outputs": [
    {
     "name": "stdout",
     "output_type": "stream",
     "text": [
      "train_x shape: (92231, 97, 6)\n",
      "test_x shape: (42311, 97, 6)\n",
      "train_y shape: (92231,)\n"
     ]
    }
   ],
   "source": [
    "\n",
    "bubl_trn.fillna(-9.0, inplace=True)\n",
    "bubl_test.fillna(-9.0, inplace=True)\n",
    "# 1. 使用 unstack 将时间序列从索引“解堆”到列，并直接填充缺失值\n",
    "#    level='MONTHS_BALANCE' 指定了要转换的索引层级\n",
    "#    fill_value=-9 在转换过程中一步到位地填充了缺失的时间点\n",
    "train_wide = bubl_trn.unstack(level='MONTHS_BALANCE', fill_value=-9)\n",
    "test_wide = bubl_test.unstack(level='MONTHS_BALANCE', fill_value=-9)\n",
    "\n",
    "# 2. 获取维度信息，为重塑 (reshape) 做准备\n",
    "n_train_samples = len(train_wide.index)\n",
    "n_test_samples = len(test_wide.index)\n",
    "n_features = len(bubl_trn.columns)\n",
    "n_timesteps = len(train_wide.columns) // n_features\n",
    "\n",
    "# 3. 将2D宽数据重塑为3D数组，并交换维度以匹配GRU/LSTM的输入要求\n",
    "#    目标维度: (样本数, 时间步长, 特征数)\n",
    "train_x = train_wide.values.reshape(n_train_samples, n_features, n_timesteps)\n",
    "train_x = np.swapaxes(train_x, 1, 2)\n",
    "\n",
    "test_x = test_wide.values.reshape(n_test_samples, n_features, n_timesteps)\n",
    "test_x = np.swapaxes(test_x, 1, 2)\n",
    "\n",
    "# 4. train_y 的逻辑保持不变\n",
    "#    假设 data_app 和 trn_id 已经定义\n",
    "train_y = data_app['TARGET'].loc[data_app.SK_ID_CURR.isin(trn_id)]\n",
    "\n",
    "# 5. 打印形状以验证\n",
    "print(\"train_x shape:\", train_x.shape)\n",
    "print(\"test_x shape:\", test_x.shape)\n",
    "print(\"train_y shape:\", train_y.shape)"
   ]
  },
  {
   "cell_type": "markdown",
   "metadata": {},
   "source": [
    "Define GRU model. Use callback to evaluate auc metric."
   ]
  },
  {
   "cell_type": "code",
   "execution_count": 11,
   "metadata": {
    "_uuid": "d39a2f9dec6d979ba1967f274e068ee2175da34c"
   },
   "outputs": [],
   "source": [
    "from keras.models import Sequential\n",
    "from keras.layers import Dense\n",
    "from keras.layers import LSTM, GRU,  Masking \n",
    "from keras.regularizers import l2\n",
    "\n",
    "\n",
    "def build_model(time_step, n_features):\n",
    "    model = Sequential()\n",
    "    \n",
    "    # 1. Add the Masking layer FIRST. \n",
    "    #    Specify your padding value (e.g., -9.0)\n",
    "    #    The input_shape goes here.\n",
    "    #model.add(Masking(mask_value=-9.0, input_shape=(time_step, n_features)))\n",
    "    \n",
    "    # 2. The GRU layer no longer needs the input_shape argument.\n",
    "    #    It automatically gets the correct shape and the mask from the previous layer.\n",
    "    model.add(GRU(4,input_shape=(time_step, n_features))) \n",
    "    model.add(Dense(1, activation='sigmoid'))\n",
    "    return model\n",
    "\n",
    "from keras.callbacks import Callback\n",
    "from keras.callbacks import EarlyStopping\n",
    "import logging\n",
    "\n",
    "class IntervalEvaluation(Callback):\n",
    "    def __init__(self, validation_data=(), interval=1):\n",
    "        super(Callback, self).__init__()\n",
    "\n",
    "        self.interval = interval\n",
    "        self.X_val, self.y_val = validation_data\n",
    "\n",
    "    def on_epoch_end(self, epoch, logs={}):\n",
    "        if epoch % self.interval == (self.interval-1):\n",
    "            y_pred = self.model.predict(self.X_val, verbose=0)[:,0]\n",
    "            score = roc_auc_score(self.y_val, y_pred)\n",
    "            print('roc score',score)"
   ]
  },
  {
   "cell_type": "markdown",
   "metadata": {},
   "source": [
    "Training..."
   ]
  },
  {
   "cell_type": "code",
   "execution_count": null,
   "metadata": {
    "_uuid": "8196c1f6d8afd551ab3fa230f2a14715b553425f",
    "scrolled": false
   },
   "outputs": [
    {
     "name": "stdout",
     "output_type": "stream",
     "text": [
      "(73784, 97, 6)\n",
      "Epoch 1/40\n"
     ]
    },
    {
     "name": "stderr",
     "output_type": "stream",
     "text": [
      "2025-10-15 13:50:17.951290: I tensorflow/core/grappler/optimizers/custom_graph_optimizer_registry.cc:114] Plugin optimizer for device_type GPU is enabled.\n",
      "2025-10-15 13:50:18.338226: I tensorflow/core/grappler/optimizers/custom_graph_optimizer_registry.cc:114] Plugin optimizer for device_type GPU is enabled.\n",
      "2025-10-15 13:50:18.886495: I tensorflow/core/grappler/optimizers/custom_graph_optimizer_registry.cc:114] Plugin optimizer for device_type GPU is enabled.\n"
     ]
    },
    {
     "name": "stdout",
     "output_type": "stream",
     "text": [
      "15/15 [==============================] - ETA: 0s - loss: 1.2317"
     ]
    },
    {
     "name": "stderr",
     "output_type": "stream",
     "text": [
      "2025-10-15 13:50:20.864591: I tensorflow/core/grappler/optimizers/custom_graph_optimizer_registry.cc:114] Plugin optimizer for device_type GPU is enabled.\n",
      "2025-10-15 13:50:20.915266: I tensorflow/core/grappler/optimizers/custom_graph_optimizer_registry.cc:114] Plugin optimizer for device_type GPU is enabled.\n"
     ]
    },
    {
     "name": "stdout",
     "output_type": "stream",
     "text": [
      "15/15 [==============================] - 4s 89ms/step - loss: 1.2317 - val_loss: 0.6892\n",
      "Epoch 2/40\n",
      "15/15 [==============================] - 1s 42ms/step - loss: 1.2296 - val_loss: 0.6822\n",
      "Epoch 3/40\n",
      "15/15 [==============================] - 1s 43ms/step - loss: 1.2276 - val_loss: 0.6761\n",
      "Epoch 4/40\n",
      "15/15 [==============================] - 1s 42ms/step - loss: 1.2258 - val_loss: 0.6721\n",
      "Epoch 5/40\n",
      "15/15 [==============================] - ETA: 0s - loss: 1.2241"
     ]
    },
    {
     "name": "stderr",
     "output_type": "stream",
     "text": [
      "2025-10-15 13:50:23.818738: I tensorflow/core/grappler/optimizers/custom_graph_optimizer_registry.cc:114] Plugin optimizer for device_type GPU is enabled.\n",
      "2025-10-15 13:50:23.858363: I tensorflow/core/grappler/optimizers/custom_graph_optimizer_registry.cc:114] Plugin optimizer for device_type GPU is enabled.\n"
     ]
    },
    {
     "name": "stdout",
     "output_type": "stream",
     "text": [
      "roc score 0.4816671702409967\n",
      "15/15 [==============================] - 3s 234ms/step - loss: 1.2241 - val_loss: 0.6692\n",
      "Epoch 6/40\n",
      "15/15 [==============================] - 1s 42ms/step - loss: 1.2224 - val_loss: 0.6666\n",
      "Epoch 7/40\n",
      "15/15 [==============================] - 1s 44ms/step - loss: 1.2209 - val_loss: 0.6628\n",
      "Epoch 8/40\n",
      "15/15 [==============================] - 1s 43ms/step - loss: 1.2194 - val_loss: 0.6611\n",
      "Epoch 9/40\n",
      "15/15 [==============================] - 1s 42ms/step - loss: 1.2179 - val_loss: 0.6586\n",
      "Epoch 10/40\n",
      "15/15 [==============================] - ETA: 0s - loss: 1.2165roc score 0.49462711073933485\n",
      "15/15 [==============================] - 3s 236ms/step - loss: 1.2165 - val_loss: 0.6573\n",
      "Epoch 11/40\n",
      "15/15 [==============================] - 1s 45ms/step - loss: 1.2152 - val_loss: 0.6558\n",
      "Epoch 12/40\n",
      "15/15 [==============================] - 1s 44ms/step - loss: 1.2139 - val_loss: 0.6537\n",
      "Epoch 13/40\n",
      "15/15 [==============================] - 1s 44ms/step - loss: 1.2126 - val_loss: 0.6520\n",
      "Epoch 14/40\n",
      "15/15 [==============================] - 1s 43ms/step - loss: 1.2114 - val_loss: 0.6504\n",
      "Epoch 15/40\n",
      "15/15 [==============================] - ETA: 0s - loss: 1.2102roc score 0.5076836471406866\n",
      "15/15 [==============================] - 4s 249ms/step - loss: 1.2102 - val_loss: 0.6499\n",
      "Epoch 16/40\n",
      "15/15 [==============================] - 1s 44ms/step - loss: 1.2090 - val_loss: 0.6482\n",
      "Epoch 17/40\n",
      "15/15 [==============================] - 1s 42ms/step - loss: 1.2079 - val_loss: 0.6480\n",
      "Epoch 18/40\n",
      "15/15 [==============================] - 1s 42ms/step - loss: 1.2068 - val_loss: 0.6468\n",
      "Epoch 19/40\n",
      "15/15 [==============================] - 1s 43ms/step - loss: 1.2058 - val_loss: 0.6456\n",
      "Epoch 20/40\n",
      "15/15 [==============================] - ETA: 0s - loss: 1.2047roc score 0.5194257366689992\n",
      "15/15 [==============================] - 3s 195ms/step - loss: 1.2047 - val_loss: 0.6439\n",
      "Epoch 21/40\n",
      "15/15 [==============================] - 1s 42ms/step - loss: 1.2037 - val_loss: 0.6432\n",
      "Epoch 22/40\n",
      "15/15 [==============================] - 1s 42ms/step - loss: 1.2027 - val_loss: 0.6422\n",
      "Epoch 23/40\n",
      "15/15 [==============================] - 1s 42ms/step - loss: 1.2017 - val_loss: 0.6420\n",
      "Epoch 24/40\n",
      "15/15 [==============================] - 1s 42ms/step - loss: 1.2007 - val_loss: 0.6410\n",
      "Epoch 25/40\n",
      "15/15 [==============================] - ETA: 0s - loss: 1.1998roc score 0.5316995456829666\n",
      "15/15 [==============================] - 3s 202ms/step - loss: 1.1998 - val_loss: 0.6400\n",
      "Epoch 26/40\n",
      "15/15 [==============================] - 1s 42ms/step - loss: 1.1988 - val_loss: 0.6389\n",
      "Epoch 27/40\n",
      "15/15 [==============================] - 1s 42ms/step - loss: 1.1979 - val_loss: 0.6377\n",
      "Epoch 28/40\n",
      "15/15 [==============================] - 1s 42ms/step - loss: 1.1970 - val_loss: 0.6381\n",
      "Epoch 29/40\n",
      "15/15 [==============================] - 1s 42ms/step - loss: 1.1961 - val_loss: 0.6366\n",
      "Epoch 30/40\n",
      "15/15 [==============================] - ETA: 0s - loss: 1.1953roc score 0.5437525416097116\n",
      "15/15 [==============================] - 3s 195ms/step - loss: 1.1953 - val_loss: 0.6360\n",
      "Epoch 31/40\n",
      "15/15 [==============================] - 1s 42ms/step - loss: 1.1944 - val_loss: 0.6353\n",
      "Epoch 32/40\n",
      "15/15 [==============================] - 1s 42ms/step - loss: 1.1936 - val_loss: 0.6350\n",
      "Epoch 33/40\n",
      "15/15 [==============================] - 1s 42ms/step - loss: 1.1928 - val_loss: 0.6344\n",
      "Epoch 34/40\n",
      "15/15 [==============================] - 1s 42ms/step - loss: 1.1921 - val_loss: 0.6340\n",
      "Epoch 35/40\n",
      "15/15 [==============================] - ETA: 0s - loss: 1.1914roc score 0.5549082584487527\n",
      "15/15 [==============================] - 3s 193ms/step - loss: 1.1914 - val_loss: 0.6339\n",
      "Epoch 36/40\n",
      "15/15 [==============================] - 1s 42ms/step - loss: 1.1907 - val_loss: 0.6338\n",
      "Epoch 37/40\n",
      "15/15 [==============================] - 1s 42ms/step - loss: 1.1900 - val_loss: 0.6340\n",
      "Epoch 38/40\n",
      "15/15 [==============================] - 1s 43ms/step - loss: 1.1894 - val_loss: 0.6336\n",
      "Epoch 39/40\n",
      "15/15 [==============================] - 1s 42ms/step - loss: 1.1888 - val_loss: 0.6323\n",
      "Epoch 40/40\n",
      "15/15 [==============================] - ETA: 0s - loss: 1.1883roc score 0.5629978362674888\n",
      "15/15 [==============================] - 3s 195ms/step - loss: 1.1883 - val_loss: 0.6312\n",
      "577/577 [==============================] - 2s 4ms/step\n",
      "1323/1323 [==============================] - 5s 4ms/step\n",
      "Fold  1 AUC : 0.562998\n",
      "(73785, 97, 6)\n",
      "Epoch 1/40\n"
     ]
    },
    {
     "name": "stderr",
     "output_type": "stream",
     "text": [
      "2025-10-15 13:51:14.468513: I tensorflow/core/grappler/optimizers/custom_graph_optimizer_registry.cc:114] Plugin optimizer for device_type GPU is enabled.\n",
      "2025-10-15 13:51:14.611820: I tensorflow/core/grappler/optimizers/custom_graph_optimizer_registry.cc:114] Plugin optimizer for device_type GPU is enabled.\n"
     ]
    },
    {
     "name": "stdout",
     "output_type": "stream",
     "text": [
      " 3/15 [=====>........................] - ETA: 0s - loss: 1.1889 "
     ]
    },
    {
     "name": "stderr",
     "output_type": "stream",
     "text": [
      "2025-10-15 13:51:14.729912: I tensorflow/core/grappler/optimizers/custom_graph_optimizer_registry.cc:114] Plugin optimizer for device_type GPU is enabled.\n"
     ]
    },
    {
     "name": "stdout",
     "output_type": "stream",
     "text": [
      " 5/15 [=========>....................] - ETA: 0s - loss: 1.1814WARNING:tensorflow:Callback method `on_train_batch_end` is slow compared to the batch time (batch time: 0.0170s vs `on_train_batch_end` time: 0.0172s). Check your callbacks.\n",
      "15/15 [==============================] - 2s 109ms/step - loss: 1.1956 - val_loss: 0.6779\n",
      "Epoch 2/40\n"
     ]
    },
    {
     "name": "stderr",
     "output_type": "stream",
     "text": [
      "2025-10-15 13:51:16.147886: I tensorflow/core/grappler/optimizers/custom_graph_optimizer_registry.cc:114] Plugin optimizer for device_type GPU is enabled.\n",
      "2025-10-15 13:51:16.199891: I tensorflow/core/grappler/optimizers/custom_graph_optimizer_registry.cc:114] Plugin optimizer for device_type GPU is enabled.\n"
     ]
    },
    {
     "name": "stdout",
     "output_type": "stream",
     "text": [
      "15/15 [==============================] - 1s 42ms/step - loss: 1.1943 - val_loss: 0.6709\n",
      "Epoch 3/40\n",
      "15/15 [==============================] - 1s 42ms/step - loss: 1.1933 - val_loss: 0.6653\n",
      "Epoch 4/40\n",
      "15/15 [==============================] - 1s 42ms/step - loss: 1.1926 - val_loss: 0.6597\n",
      "Epoch 5/40\n",
      "15/15 [==============================] - ETA: 0s - loss: 1.1919"
     ]
    },
    {
     "name": "stderr",
     "output_type": "stream",
     "text": [
      "2025-10-15 13:51:18.980271: I tensorflow/core/grappler/optimizers/custom_graph_optimizer_registry.cc:114] Plugin optimizer for device_type GPU is enabled.\n",
      "2025-10-15 13:51:19.018526: I tensorflow/core/grappler/optimizers/custom_graph_optimizer_registry.cc:114] Plugin optimizer for device_type GPU is enabled.\n"
     ]
    },
    {
     "name": "stdout",
     "output_type": "stream",
     "text": [
      "roc score 0.5496728708589994\n",
      "15/15 [==============================] - 3s 209ms/step - loss: 1.1919 - val_loss: 0.6553\n",
      "Epoch 6/40\n",
      "15/15 [==============================] - 1s 43ms/step - loss: 1.1913 - val_loss: 0.6524\n",
      "Epoch 7/40\n",
      "15/15 [==============================] - 1s 41ms/step - loss: 1.1908 - val_loss: 0.6499\n",
      "Epoch 8/40\n",
      "15/15 [==============================] - 1s 42ms/step - loss: 1.1903 - val_loss: 0.6475\n",
      "Epoch 9/40\n",
      "15/15 [==============================] - 1s 42ms/step - loss: 1.1899 - val_loss: 0.6454\n",
      "Epoch 10/40\n",
      "15/15 [==============================] - ETA: 0s - loss: 1.1895roc score 0.5575095458180406\n",
      "15/15 [==============================] - 3s 195ms/step - loss: 1.1895 - val_loss: 0.6451\n",
      "Epoch 11/40\n",
      "15/15 [==============================] - 1s 42ms/step - loss: 1.1891 - val_loss: 0.6446\n",
      "Epoch 12/40\n",
      "15/15 [==============================] - 1s 42ms/step - loss: 1.1887 - val_loss: 0.6442\n",
      "Epoch 13/40\n",
      "15/15 [==============================] - 1s 43ms/step - loss: 1.1882 - val_loss: 0.6443\n",
      "Epoch 14/40\n",
      "15/15 [==============================] - 1s 42ms/step - loss: 1.1876 - val_loss: 0.6447\n",
      "Epoch 15/40\n",
      "15/15 [==============================] - ETA: 0s - loss: 1.1871roc score 0.5657981284632766\n",
      "15/15 [==============================] - 3s 195ms/step - loss: 1.1871 - val_loss: 0.6459\n",
      "Epoch 16/40\n",
      "15/15 [==============================] - 1s 42ms/step - loss: 1.1865 - val_loss: 0.6462\n",
      "Epoch 17/40\n",
      "15/15 [==============================] - 1s 41ms/step - loss: 1.1862 - val_loss: 0.6476\n",
      "Epoch 18/40\n",
      "15/15 [==============================] - 1s 41ms/step - loss: 1.1859 - val_loss: 0.6462\n",
      "Epoch 19/40\n",
      "15/15 [==============================] - 1s 41ms/step - loss: 1.1856 - val_loss: 0.6454\n",
      "Epoch 20/40\n",
      "15/15 [==============================] - ETA: 0s - loss: 1.1854roc score 0.5676802192606899\n",
      "15/15 [==============================] - 3s 194ms/step - loss: 1.1854 - val_loss: 0.6450\n",
      "Epoch 21/40\n",
      "15/15 [==============================] - 1s 41ms/step - loss: 1.1852 - val_loss: 0.6431\n",
      "Epoch 22/40\n",
      "15/15 [==============================] - 1s 42ms/step - loss: 1.1849 - val_loss: 0.6433\n",
      "Epoch 23/40\n",
      "15/15 [==============================] - 1s 48ms/step - loss: 1.1846 - val_loss: 0.6431\n",
      "Epoch 24/40\n",
      "15/15 [==============================] - 1s 42ms/step - loss: 1.1844 - val_loss: 0.6417\n",
      "Epoch 25/40\n",
      "15/15 [==============================] - ETA: 0s - loss: 1.1842roc score 0.5724127155294357\n",
      "15/15 [==============================] - 3s 196ms/step - loss: 1.1842 - val_loss: 0.6418\n",
      "Epoch 26/40\n",
      "15/15 [==============================] - 1s 41ms/step - loss: 1.1840 - val_loss: 0.6416\n",
      "Epoch 27/40\n",
      "15/15 [==============================] - 1s 41ms/step - loss: 1.1837 - val_loss: 0.6419\n",
      "Epoch 28/40\n",
      "15/15 [==============================] - 1s 41ms/step - loss: 1.1835 - val_loss: 0.6415\n",
      "Epoch 29/40\n",
      "15/15 [==============================] - 1s 42ms/step - loss: 1.1833 - val_loss: 0.6425\n",
      "Epoch 30/40\n",
      "15/15 [==============================] - ETA: 0s - loss: 1.1830roc score 0.5760318473700159\n",
      "15/15 [==============================] - 3s 191ms/step - loss: 1.1830 - val_loss: 0.6418\n",
      "Epoch 31/40\n",
      "15/15 [==============================] - 1s 41ms/step - loss: 1.1828 - val_loss: 0.6423\n",
      "Epoch 32/40\n",
      "15/15 [==============================] - 1s 43ms/step - loss: 1.1826 - val_loss: 0.6406\n",
      "Epoch 33/40\n",
      "15/15 [==============================] - 1s 41ms/step - loss: 1.1824 - val_loss: 0.6423\n",
      "Epoch 34/40\n",
      "15/15 [==============================] - 1s 42ms/step - loss: 1.1822 - val_loss: 0.6411\n",
      "Epoch 35/40\n",
      "15/15 [==============================] - ETA: 0s - loss: 1.1820roc score 0.5779393803226167\n",
      "15/15 [==============================] - 3s 194ms/step - loss: 1.1820 - val_loss: 0.6418\n",
      "Epoch 36/40\n",
      "15/15 [==============================] - 1s 41ms/step - loss: 1.1818 - val_loss: 0.6417\n",
      "Epoch 37/40\n",
      "15/15 [==============================] - 1s 41ms/step - loss: 1.1816 - val_loss: 0.6407\n",
      "Epoch 38/40\n",
      "15/15 [==============================] - 1s 41ms/step - loss: 1.1814 - val_loss: 0.6408\n",
      "Epoch 39/40\n",
      "15/15 [==============================] - 1s 42ms/step - loss: 1.1812 - val_loss: 0.6408\n",
      "Epoch 40/40\n",
      "15/15 [==============================] - ETA: 0s - loss: 1.1811roc score 0.5790651613083719\n",
      "15/15 [==============================] - 3s 195ms/step - loss: 1.1811 - val_loss: 0.6418\n",
      "577/577 [==============================] - 2s 4ms/step\n",
      "1323/1323 [==============================] - 5s 4ms/step\n",
      "Fold  2 AUC : 0.579065\n",
      "(73785, 97, 6)\n",
      "Epoch 1/40\n"
     ]
    },
    {
     "name": "stderr",
     "output_type": "stream",
     "text": [
      "2025-10-15 13:52:07.160421: I tensorflow/core/grappler/optimizers/custom_graph_optimizer_registry.cc:114] Plugin optimizer for device_type GPU is enabled.\n",
      "2025-10-15 13:52:07.302517: I tensorflow/core/grappler/optimizers/custom_graph_optimizer_registry.cc:114] Plugin optimizer for device_type GPU is enabled.\n"
     ]
    },
    {
     "name": "stdout",
     "output_type": "stream",
     "text": [
      " 3/15 [=====>........................] - ETA: 0s - loss: 1.2662 "
     ]
    },
    {
     "name": "stderr",
     "output_type": "stream",
     "text": [
      "2025-10-15 13:52:07.420120: I tensorflow/core/grappler/optimizers/custom_graph_optimizer_registry.cc:114] Plugin optimizer for device_type GPU is enabled.\n"
     ]
    },
    {
     "name": "stdout",
     "output_type": "stream",
     "text": [
      "15/15 [==============================] - 2s 72ms/step - loss: 1.2348 - val_loss: 0.5782\n",
      "Epoch 2/40\n"
     ]
    },
    {
     "name": "stderr",
     "output_type": "stream",
     "text": [
      "2025-10-15 13:52:08.329595: I tensorflow/core/grappler/optimizers/custom_graph_optimizer_registry.cc:114] Plugin optimizer for device_type GPU is enabled.\n",
      "2025-10-15 13:52:08.379603: I tensorflow/core/grappler/optimizers/custom_graph_optimizer_registry.cc:114] Plugin optimizer for device_type GPU is enabled.\n"
     ]
    },
    {
     "name": "stdout",
     "output_type": "stream",
     "text": [
      "15/15 [==============================] - 1s 42ms/step - loss: 1.2303 - val_loss: 0.5892\n",
      "Epoch 3/40\n",
      "15/15 [==============================] - 1s 41ms/step - loss: 1.2261 - val_loss: 0.5991\n",
      "Epoch 4/40\n",
      "15/15 [==============================] - 1s 42ms/step - loss: 1.2225 - val_loss: 0.6084\n",
      "Epoch 5/40\n",
      "15/15 [==============================] - ETA: 0s - loss: 1.2195"
     ]
    },
    {
     "name": "stderr",
     "output_type": "stream",
     "text": [
      "2025-10-15 13:52:11.154272: I tensorflow/core/grappler/optimizers/custom_graph_optimizer_registry.cc:114] Plugin optimizer for device_type GPU is enabled.\n",
      "2025-10-15 13:52:11.192327: I tensorflow/core/grappler/optimizers/custom_graph_optimizer_registry.cc:114] Plugin optimizer for device_type GPU is enabled.\n"
     ]
    },
    {
     "name": "stdout",
     "output_type": "stream",
     "text": [
      "roc score 0.5501632855908836\n",
      "15/15 [==============================] - 3s 207ms/step - loss: 1.2195 - val_loss: 0.6172\n",
      "Epoch 6/40\n",
      "15/15 [==============================] - 1s 42ms/step - loss: 1.2168 - val_loss: 0.6250\n",
      "Epoch 7/40\n",
      "15/15 [==============================] - 1s 45ms/step - loss: 1.2145 - val_loss: 0.6312\n",
      "Epoch 8/40\n",
      "15/15 [==============================] - 1s 42ms/step - loss: 1.2126 - val_loss: 0.6371\n",
      "Epoch 9/40\n",
      "15/15 [==============================] - 1s 42ms/step - loss: 1.2109 - val_loss: 0.6413\n",
      "Epoch 10/40\n",
      "15/15 [==============================] - ETA: 0s - loss: 1.2095roc score 0.5523343167561288\n",
      "15/15 [==============================] - 3s 196ms/step - loss: 1.2095 - val_loss: 0.6455\n",
      "Epoch 11/40\n",
      "15/15 [==============================] - 1s 42ms/step - loss: 1.2081 - val_loss: 0.6486\n",
      "Epoch 12/40\n",
      "15/15 [==============================] - 1s 41ms/step - loss: 1.2070 - val_loss: 0.6520\n",
      "Epoch 13/40\n",
      "15/15 [==============================] - 1s 42ms/step - loss: 1.2058 - val_loss: 0.6534\n",
      "Epoch 14/40\n",
      "15/15 [==============================] - 1s 43ms/step - loss: 1.2048 - val_loss: 0.6541\n",
      "Epoch 15/40\n",
      "15/15 [==============================] - ETA: 0s - loss: 1.2038roc score 0.554449296594154\n",
      "15/15 [==============================] - 3s 197ms/step - loss: 1.2038 - val_loss: 0.6556\n",
      "Epoch 16/40\n",
      "15/15 [==============================] - 1s 42ms/step - loss: 1.2028 - val_loss: 0.6563\n",
      "Epoch 17/40\n",
      "15/15 [==============================] - 1s 42ms/step - loss: 1.2019 - val_loss: 0.6568\n",
      "Epoch 18/40\n",
      "15/15 [==============================] - 1s 42ms/step - loss: 1.2009 - val_loss: 0.6562\n",
      "Epoch 19/40\n",
      "15/15 [==============================] - 1s 41ms/step - loss: 1.2000 - val_loss: 0.6554\n",
      "Epoch 20/40\n",
      "15/15 [==============================] - ETA: 0s - loss: 1.1991roc score 0.5564593643791281\n",
      "15/15 [==============================] - 3s 196ms/step - loss: 1.1991 - val_loss: 0.6543\n",
      "Epoch 21/40\n",
      "15/15 [==============================] - 1s 41ms/step - loss: 1.1981 - val_loss: 0.6529\n",
      "Epoch 22/40\n",
      "15/15 [==============================] - 1s 42ms/step - loss: 1.1972 - val_loss: 0.6517\n",
      "Epoch 23/40\n",
      "15/15 [==============================] - 1s 42ms/step - loss: 1.1961 - val_loss: 0.6504\n",
      "Epoch 24/40\n",
      "15/15 [==============================] - 1s 42ms/step - loss: 1.1951 - val_loss: 0.6487\n",
      "Epoch 25/40\n",
      "15/15 [==============================] - ETA: 0s - loss: 1.1941roc score 0.5598066679114658\n",
      "15/15 [==============================] - 3s 192ms/step - loss: 1.1941 - val_loss: 0.6484\n",
      "Epoch 26/40\n",
      "15/15 [==============================] - 1s 42ms/step - loss: 1.1932 - val_loss: 0.6465\n",
      "Epoch 27/40\n",
      "15/15 [==============================] - 1s 42ms/step - loss: 1.1924 - val_loss: 0.6457\n",
      "Epoch 28/40\n",
      "15/15 [==============================] - 1s 42ms/step - loss: 1.1916 - val_loss: 0.6448\n",
      "Epoch 29/40\n",
      "15/15 [==============================] - 1s 41ms/step - loss: 1.1910 - val_loss: 0.6432\n",
      "Epoch 30/40\n",
      "15/15 [==============================] - ETA: 0s - loss: 1.1905roc score 0.5635378041742266\n",
      "15/15 [==============================] - 3s 192ms/step - loss: 1.1905 - val_loss: 0.6431\n",
      "Epoch 31/40\n",
      "15/15 [==============================] - 1s 42ms/step - loss: 1.1900 - val_loss: 0.6437\n",
      "Epoch 32/40\n",
      "15/15 [==============================] - 1s 41ms/step - loss: 1.1895 - val_loss: 0.6428\n",
      "Epoch 33/40\n",
      "15/15 [==============================] - 1s 42ms/step - loss: 1.1891 - val_loss: 0.6426\n",
      "Epoch 34/40\n",
      "15/15 [==============================] - 1s 42ms/step - loss: 1.1887 - val_loss: 0.6417\n",
      "Epoch 35/40\n",
      "15/15 [==============================] - ETA: 0s - loss: 1.1883roc score 0.5657206035641493\n",
      "15/15 [==============================] - 3s 193ms/step - loss: 1.1883 - val_loss: 0.6415\n",
      "Epoch 36/40\n",
      "15/15 [==============================] - 1s 41ms/step - loss: 1.1880 - val_loss: 0.6409\n",
      "Epoch 37/40\n",
      "15/15 [==============================] - 1s 42ms/step - loss: 1.1876 - val_loss: 0.6401\n",
      "Epoch 38/40\n",
      "15/15 [==============================] - 1s 42ms/step - loss: 1.1873 - val_loss: 0.6407\n",
      "Epoch 39/40\n",
      "15/15 [==============================] - 1s 42ms/step - loss: 1.1870 - val_loss: 0.6399\n",
      "Epoch 40/40\n",
      "14/15 [===========================>..] - ETA: 0s - loss: 1.1872roc score 0.5684115780784575\n",
      "15/15 [==============================] - 3s 194ms/step - loss: 1.1867 - val_loss: 0.6396\n",
      "577/577 [==============================] - 2s 4ms/step\n",
      "1323/1323 [==============================] - 5s 4ms/step\n",
      "Fold  3 AUC : 0.568412\n",
      "(73785, 97, 6)\n",
      "Epoch 1/40\n"
     ]
    },
    {
     "name": "stderr",
     "output_type": "stream",
     "text": [
      "2025-10-15 13:52:59.329364: I tensorflow/core/grappler/optimizers/custom_graph_optimizer_registry.cc:114] Plugin optimizer for device_type GPU is enabled.\n",
      "2025-10-15 13:52:59.475876: I tensorflow/core/grappler/optimizers/custom_graph_optimizer_registry.cc:114] Plugin optimizer for device_type GPU is enabled.\n"
     ]
    },
    {
     "name": "stdout",
     "output_type": "stream",
     "text": [
      " 3/15 [=====>........................] - ETA: 0s - loss: 1.2294 "
     ]
    },
    {
     "name": "stderr",
     "output_type": "stream",
     "text": [
      "2025-10-15 13:52:59.592799: I tensorflow/core/grappler/optimizers/custom_graph_optimizer_registry.cc:114] Plugin optimizer for device_type GPU is enabled.\n"
     ]
    },
    {
     "name": "stdout",
     "output_type": "stream",
     "text": [
      " 5/15 [=========>....................] - ETA: 0s - loss: 1.2160WARNING:tensorflow:Callback method `on_train_batch_end` is slow compared to the batch time (batch time: 0.0169s vs `on_train_batch_end` time: 0.0172s). Check your callbacks.\n",
      "15/15 [==============================] - 2s 66ms/step - loss: 1.2256 - val_loss: 0.6608\n",
      "Epoch 2/40\n"
     ]
    },
    {
     "name": "stderr",
     "output_type": "stream",
     "text": [
      "2025-10-15 13:53:00.412531: I tensorflow/core/grappler/optimizers/custom_graph_optimizer_registry.cc:114] Plugin optimizer for device_type GPU is enabled.\n",
      "2025-10-15 13:53:00.463022: I tensorflow/core/grappler/optimizers/custom_graph_optimizer_registry.cc:114] Plugin optimizer for device_type GPU is enabled.\n"
     ]
    },
    {
     "name": "stdout",
     "output_type": "stream",
     "text": [
      "15/15 [==============================] - 1s 44ms/step - loss: 1.2242 - val_loss: 0.6543\n",
      "Epoch 3/40\n",
      "15/15 [==============================] - 1s 42ms/step - loss: 1.2230 - val_loss: 0.6480\n",
      "Epoch 4/40\n",
      "15/15 [==============================] - 1s 42ms/step - loss: 1.2220 - val_loss: 0.6446\n",
      "Epoch 5/40\n",
      "15/15 [==============================] - ETA: 0s - loss: 1.2212"
     ]
    },
    {
     "name": "stderr",
     "output_type": "stream",
     "text": [
      "2025-10-15 13:53:03.284091: I tensorflow/core/grappler/optimizers/custom_graph_optimizer_registry.cc:114] Plugin optimizer for device_type GPU is enabled.\n",
      "2025-10-15 13:53:03.322867: I tensorflow/core/grappler/optimizers/custom_graph_optimizer_registry.cc:114] Plugin optimizer for device_type GPU is enabled.\n"
     ]
    },
    {
     "name": "stdout",
     "output_type": "stream",
     "text": [
      "roc score 0.5263974639102538\n",
      "15/15 [==============================] - 3s 208ms/step - loss: 1.2212 - val_loss: 0.6412\n",
      "Epoch 6/40\n",
      "15/15 [==============================] - 1s 42ms/step - loss: 1.2204 - val_loss: 0.6390\n",
      "Epoch 7/40\n",
      "15/15 [==============================] - 1s 42ms/step - loss: 1.2196 - val_loss: 0.6376\n",
      "Epoch 8/40\n",
      "15/15 [==============================] - 1s 42ms/step - loss: 1.2189 - val_loss: 0.6368\n",
      "Epoch 9/40\n",
      "15/15 [==============================] - 1s 44ms/step - loss: 1.2182 - val_loss: 0.6362\n",
      "Epoch 10/40\n",
      "15/15 [==============================] - ETA: 0s - loss: 1.2176roc score 0.5330648409926205\n",
      "15/15 [==============================] - 3s 196ms/step - loss: 1.2176 - val_loss: 0.6358\n",
      "Epoch 11/40\n",
      "15/15 [==============================] - 1s 42ms/step - loss: 1.2169 - val_loss: 0.6347\n",
      "Epoch 12/40\n",
      "15/15 [==============================] - 1s 42ms/step - loss: 1.2163 - val_loss: 0.6348\n",
      "Epoch 13/40\n",
      "15/15 [==============================] - 1s 41ms/step - loss: 1.2157 - val_loss: 0.6342\n",
      "Epoch 14/40\n",
      "15/15 [==============================] - 1s 42ms/step - loss: 1.2151 - val_loss: 0.6338\n",
      "Epoch 15/40\n",
      "15/15 [==============================] - ETA: 0s - loss: 1.2145roc score 0.5402230650288127\n",
      "15/15 [==============================] - 3s 199ms/step - loss: 1.2145 - val_loss: 0.6339\n",
      "Epoch 16/40\n",
      "15/15 [==============================] - 1s 41ms/step - loss: 1.2139 - val_loss: 0.6338\n",
      "Epoch 17/40\n",
      "15/15 [==============================] - 1s 42ms/step - loss: 1.2133 - val_loss: 0.6335\n",
      "Epoch 18/40\n",
      "15/15 [==============================] - 1s 42ms/step - loss: 1.2127 - val_loss: 0.6339\n",
      "Epoch 19/40\n",
      "15/15 [==============================] - 1s 42ms/step - loss: 1.2121 - val_loss: 0.6333\n",
      "Epoch 20/40\n",
      "15/15 [==============================] - ETA: 0s - loss: 1.2115roc score 0.5461881011028418\n",
      "15/15 [==============================] - 3s 195ms/step - loss: 1.2115 - val_loss: 0.6330\n",
      "Epoch 21/40\n",
      "15/15 [==============================] - 1s 41ms/step - loss: 1.2109 - val_loss: 0.6331\n",
      "Epoch 22/40\n",
      "15/15 [==============================] - 1s 43ms/step - loss: 1.2103 - val_loss: 0.6334\n",
      "Epoch 23/40\n",
      "15/15 [==============================] - 1s 42ms/step - loss: 1.2097 - val_loss: 0.6327\n",
      "Epoch 24/40\n",
      "15/15 [==============================] - 1s 41ms/step - loss: 1.2090 - val_loss: 0.6325\n",
      "Epoch 25/40\n",
      "15/15 [==============================] - ETA: 0s - loss: 1.2083roc score 0.5522985405672513\n",
      "15/15 [==============================] - 3s 193ms/step - loss: 1.2083 - val_loss: 0.6329\n",
      "Epoch 26/40\n",
      "15/15 [==============================] - 1s 42ms/step - loss: 1.2076 - val_loss: 0.6322\n",
      "Epoch 27/40\n",
      "15/15 [==============================] - 1s 42ms/step - loss: 1.2068 - val_loss: 0.6318\n",
      "Epoch 28/40\n",
      "15/15 [==============================] - 1s 42ms/step - loss: 1.2060 - val_loss: 0.6320\n",
      "Epoch 29/40\n",
      "15/15 [==============================] - 1s 43ms/step - loss: 1.2051 - val_loss: 0.6321\n",
      "Epoch 30/40\n",
      "15/15 [==============================] - ETA: 0s - loss: 1.2042roc score 0.5577611186343924\n",
      "15/15 [==============================] - 3s 193ms/step - loss: 1.2042 - val_loss: 0.6326\n",
      "Epoch 31/40\n",
      "15/15 [==============================] - 1s 42ms/step - loss: 1.2031 - val_loss: 0.6322\n",
      "Epoch 32/40\n",
      "15/15 [==============================] - 1s 41ms/step - loss: 1.2020 - val_loss: 0.6315\n",
      "Epoch 33/40\n",
      "15/15 [==============================] - 1s 41ms/step - loss: 1.2008 - val_loss: 0.6326\n",
      "Epoch 34/40\n",
      "15/15 [==============================] - 1s 41ms/step - loss: 1.1996 - val_loss: 0.6323\n",
      "Epoch 35/40\n",
      "15/15 [==============================] - ETA: 0s - loss: 1.1985roc score 0.5597893397409057\n",
      "15/15 [==============================] - 3s 197ms/step - loss: 1.1985 - val_loss: 0.6324\n",
      "Epoch 36/40\n",
      "15/15 [==============================] - 1s 42ms/step - loss: 1.1974 - val_loss: 0.6331\n",
      "Epoch 37/40\n",
      "15/15 [==============================] - 1s 42ms/step - loss: 1.1965 - val_loss: 0.6333\n",
      "Epoch 38/40\n",
      "15/15 [==============================] - 1s 42ms/step - loss: 1.1956 - val_loss: 0.6327\n",
      "Epoch 39/40\n",
      "15/15 [==============================] - 1s 42ms/step - loss: 1.1949 - val_loss: 0.6330\n",
      "Epoch 40/40\n",
      "15/15 [==============================] - ETA: 0s - loss: 1.1942roc score 0.5614168321683773\n",
      "15/15 [==============================] - 3s 193ms/step - loss: 1.1942 - val_loss: 0.6326\n",
      "577/577 [==============================] - 2s 4ms/step\n",
      "1323/1323 [==============================] - 5s 4ms/step\n",
      "Fold  4 AUC : 0.561417\n",
      "(73785, 97, 6)\n",
      "Epoch 1/40\n"
     ]
    },
    {
     "name": "stderr",
     "output_type": "stream",
     "text": [
      "2025-10-15 13:53:51.492411: I tensorflow/core/grappler/optimizers/custom_graph_optimizer_registry.cc:114] Plugin optimizer for device_type GPU is enabled.\n",
      "2025-10-15 13:53:51.640988: I tensorflow/core/grappler/optimizers/custom_graph_optimizer_registry.cc:114] Plugin optimizer for device_type GPU is enabled.\n"
     ]
    },
    {
     "name": "stdout",
     "output_type": "stream",
     "text": [
      " 3/15 [=====>........................] - ETA: 0s - loss: 1.3245 "
     ]
    },
    {
     "name": "stderr",
     "output_type": "stream",
     "text": [
      "2025-10-15 13:53:51.758267: I tensorflow/core/grappler/optimizers/custom_graph_optimizer_registry.cc:114] Plugin optimizer for device_type GPU is enabled.\n"
     ]
    },
    {
     "name": "stdout",
     "output_type": "stream",
     "text": [
      " 5/15 [=========>....................] - ETA: 0s - loss: 1.3229WARNING:tensorflow:Callback method `on_train_batch_end` is slow compared to the batch time (batch time: 0.0172s vs `on_train_batch_end` time: 0.0174s). Check your callbacks.\n",
      "15/15 [==============================] - 2s 66ms/step - loss: 1.3296 - val_loss: 0.9457\n",
      "Epoch 2/40\n"
     ]
    },
    {
     "name": "stderr",
     "output_type": "stream",
     "text": [
      "2025-10-15 13:53:52.576475: I tensorflow/core/grappler/optimizers/custom_graph_optimizer_registry.cc:114] Plugin optimizer for device_type GPU is enabled.\n",
      "2025-10-15 13:53:52.629745: I tensorflow/core/grappler/optimizers/custom_graph_optimizer_registry.cc:114] Plugin optimizer for device_type GPU is enabled.\n"
     ]
    },
    {
     "name": "stdout",
     "output_type": "stream",
     "text": [
      "15/15 [==============================] - 1s 42ms/step - loss: 1.3220 - val_loss: 0.9315\n",
      "Epoch 3/40\n",
      "15/15 [==============================] - 1s 44ms/step - loss: 1.3147 - val_loss: 0.9177\n",
      "Epoch 4/40\n",
      "15/15 [==============================] - 1s 42ms/step - loss: 1.3075 - val_loss: 0.9043\n",
      "Epoch 5/40\n",
      "15/15 [==============================] - ETA: 0s - loss: 1.3006"
     ]
    },
    {
     "name": "stderr",
     "output_type": "stream",
     "text": [
      "2025-10-15 13:53:55.435891: I tensorflow/core/grappler/optimizers/custom_graph_optimizer_registry.cc:114] Plugin optimizer for device_type GPU is enabled.\n",
      "2025-10-15 13:53:55.473571: I tensorflow/core/grappler/optimizers/custom_graph_optimizer_registry.cc:114] Plugin optimizer for device_type GPU is enabled.\n"
     ]
    },
    {
     "name": "stdout",
     "output_type": "stream",
     "text": [
      "roc score 0.4533609931800093\n",
      "15/15 [==============================] - 3s 208ms/step - loss: 1.3006 - val_loss: 0.8909\n",
      "Epoch 6/40\n",
      "15/15 [==============================] - 1s 42ms/step - loss: 1.2940 - val_loss: 0.8776\n",
      "Epoch 7/40\n",
      "15/15 [==============================] - 1s 42ms/step - loss: 1.2874 - val_loss: 0.8644\n",
      "Epoch 8/40\n",
      "15/15 [==============================] - 1s 42ms/step - loss: 1.2811 - val_loss: 0.8512\n",
      "Epoch 9/40\n",
      "15/15 [==============================] - 1s 43ms/step - loss: 1.2751 - val_loss: 0.8383\n",
      "Epoch 10/40\n",
      "15/15 [==============================] - ETA: 0s - loss: 1.2697roc score 0.45504711061989744\n",
      "15/15 [==============================] - 3s 205ms/step - loss: 1.2697 - val_loss: 0.8263\n",
      "Epoch 11/40\n",
      "15/15 [==============================] - 1s 42ms/step - loss: 1.2648 - val_loss: 0.8150\n",
      "Epoch 12/40\n",
      "15/15 [==============================] - 1s 42ms/step - loss: 1.2602 - val_loss: 0.8050\n",
      "Epoch 13/40\n",
      "15/15 [==============================] - 1s 41ms/step - loss: 1.2560 - val_loss: 0.7952\n",
      "Epoch 14/40\n",
      "15/15 [==============================] - 1s 42ms/step - loss: 1.2521 - val_loss: 0.7863\n",
      "Epoch 15/40\n",
      "14/15 [===========================>..] - ETA: 0s - loss: 1.2497roc score 0.45830011118320046\n",
      "15/15 [==============================] - 3s 199ms/step - loss: 1.2484 - val_loss: 0.7777\n",
      "Epoch 16/40\n",
      "15/15 [==============================] - 1s 41ms/step - loss: 1.2449 - val_loss: 0.7697\n",
      "Epoch 17/40\n",
      "15/15 [==============================] - 1s 41ms/step - loss: 1.2418 - val_loss: 0.7621\n",
      "Epoch 18/40\n",
      "15/15 [==============================] - 1s 42ms/step - loss: 1.2387 - val_loss: 0.7548\n",
      "Epoch 19/40\n",
      "15/15 [==============================] - 1s 42ms/step - loss: 1.2359 - val_loss: 0.7478\n",
      "Epoch 20/40\n",
      "15/15 [==============================] - ETA: 0s - loss: 1.2333roc score 0.46258851905360054\n",
      "15/15 [==============================] - 3s 193ms/step - loss: 1.2333 - val_loss: 0.7414\n",
      "Epoch 21/40\n",
      "15/15 [==============================] - 1s 42ms/step - loss: 1.2308 - val_loss: 0.7355\n",
      "Epoch 22/40\n",
      "15/15 [==============================] - 1s 42ms/step - loss: 1.2285 - val_loss: 0.7295\n",
      "Epoch 23/40\n",
      "15/15 [==============================] - 1s 41ms/step - loss: 1.2263 - val_loss: 0.7239\n",
      "Epoch 24/40\n",
      "15/15 [==============================] - 1s 41ms/step - loss: 1.2243 - val_loss: 0.7189\n",
      "Epoch 25/40\n",
      "15/15 [==============================] - ETA: 0s - loss: 1.2224roc score 0.4680403112186584\n",
      "15/15 [==============================] - 3s 192ms/step - loss: 1.2224 - val_loss: 0.7140\n",
      "Epoch 26/40\n",
      "15/15 [==============================] - 1s 42ms/step - loss: 1.2206 - val_loss: 0.7093\n",
      "Epoch 27/40\n",
      "15/15 [==============================] - 1s 43ms/step - loss: 1.2189 - val_loss: 0.7045\n",
      "Epoch 28/40\n",
      "15/15 [==============================] - 1s 42ms/step - loss: 1.2173 - val_loss: 0.7005\n",
      "Epoch 29/40\n",
      "15/15 [==============================] - 1s 42ms/step - loss: 1.2158 - val_loss: 0.6967\n",
      "Epoch 30/40\n",
      "15/15 [==============================] - ETA: 0s - loss: 1.2144roc score 0.47549615935441436\n",
      "15/15 [==============================] - 3s 194ms/step - loss: 1.2144 - val_loss: 0.6928\n",
      "Epoch 31/40\n",
      "15/15 [==============================] - 1s 41ms/step - loss: 1.2131 - val_loss: 0.6895\n",
      "Epoch 32/40\n",
      "15/15 [==============================] - 1s 42ms/step - loss: 1.2119 - val_loss: 0.6861\n",
      "Epoch 33/40\n",
      "15/15 [==============================] - 1s 42ms/step - loss: 1.2108 - val_loss: 0.6828\n",
      "Epoch 34/40\n",
      "15/15 [==============================] - 1s 43ms/step - loss: 1.2096 - val_loss: 0.6801\n",
      "Epoch 35/40\n",
      "15/15 [==============================] - ETA: 0s - loss: 1.2086roc score 0.48364529148419044\n",
      "15/15 [==============================] - 3s 195ms/step - loss: 1.2086 - val_loss: 0.6773\n",
      "Epoch 36/40\n",
      "15/15 [==============================] - 1s 42ms/step - loss: 1.2077 - val_loss: 0.6748\n",
      "Epoch 37/40\n",
      "15/15 [==============================] - 1s 42ms/step - loss: 1.2067 - val_loss: 0.6725\n",
      "Epoch 38/40\n",
      "15/15 [==============================] - 1s 42ms/step - loss: 1.2059 - val_loss: 0.6701\n",
      "Epoch 39/40\n",
      "15/15 [==============================] - 1s 42ms/step - loss: 1.2050 - val_loss: 0.6681\n",
      "Epoch 40/40\n",
      "15/15 [==============================] - ETA: 0s - loss: 1.2042roc score 0.4906455187543458\n",
      "15/15 [==============================] - 3s 192ms/step - loss: 1.2042 - val_loss: 0.6662\n",
      "577/577 [==============================] - 2s 4ms/step\n",
      "1323/1323 [==============================] - 5s 4ms/step\n",
      "Fold  5 AUC : 0.490646\n"
     ]
    }
   ],
   "source": [
    "from tensorflow.keras.optimizers.legacy import Adam # for mac only\n",
    "# Run a 5 fold\n",
    "folds = StratifiedKFold(n_splits=5, shuffle=True, random_state=777)\n",
    "oof_preds = np.zeros(train_x.shape[0])\n",
    "sub_preds = np.zeros(test_x.shape[0])\n",
    "\n",
    "for n_fold, (trn_idx, val_idx) in enumerate(folds.split(train_x, train_y)):\n",
    "    trn_x, val_x = train_x[trn_idx], train_x[val_idx]\n",
    "    trn_y, val_y = train_y.iloc[trn_idx], train_y.iloc[val_idx]\n",
    "    ival = IntervalEvaluation(validation_data=(val_x, val_y), interval=5)\n",
    "    print(trn_x.shape)\n",
    "    model = build_model(trn_x.shape[1],trn_x.shape[2])\n",
    "    model.compile(loss='binary_crossentropy', optimizer=Adam(learning_rate=0.0002))\n",
    "    model.fit(trn_x, trn_y,\n",
    "              validation_data = [val_x, val_y],\n",
    "              epochs=80, batch_size=2048, \n",
    "              class_weight = {0:1,1:10},\n",
    "              callbacks=[ival], verbose=1)\n",
    "    \n",
    "    oof_preds[val_idx] = model.predict(val_x)[:,0]\n",
    "    sub_preds += model.predict(test_x)[:,0] / folds.n_splits\n",
    "    \n",
    "    print('Fold %2d AUC : %.6f' % (n_fold + 1, roc_auc_score(val_y, oof_preds[val_idx])))\n",
    "  \n",
    "    del model, trn_x, trn_y, val_x, val_y\n",
    "    gc.collect()"
   ]
  },
  {
   "cell_type": "markdown",
   "metadata": {},
   "source": [
    "Save model prediction to disk."
   ]
  },
  {
   "cell_type": "code",
   "execution_count": 1,
   "metadata": {
    "_uuid": "702835883349074834b30bdf194820d98cd36631"
   },
   "outputs": [
    {
     "ename": "NameError",
     "evalue": "name 'pd' is not defined",
     "output_type": "error",
     "traceback": [
      "\u001b[0;31m---------------------------------------------------------------------------\u001b[0m",
      "\u001b[0;31mNameError\u001b[0m                                 Traceback (most recent call last)",
      "Cell \u001b[0;32mIn[1], line 1\u001b[0m\n\u001b[0;32m----> 1\u001b[0m bubl_score_train \u001b[38;5;241m=\u001b[39m \u001b[43mpd\u001b[49m\u001b[38;5;241m.\u001b[39mDataFrame({\u001b[38;5;124m'\u001b[39m\u001b[38;5;124mbubl_score\u001b[39m\u001b[38;5;124m'\u001b[39m:oof_preds}, index\u001b[38;5;241m=\u001b[39mtrn_id)\n\u001b[1;32m      2\u001b[0m bubl_score_test \u001b[38;5;241m=\u001b[39m pd\u001b[38;5;241m.\u001b[39mDataFrame({\u001b[38;5;124m'\u001b[39m\u001b[38;5;124mbubl_score\u001b[39m\u001b[38;5;124m'\u001b[39m:sub_preds}, index\u001b[38;5;241m=\u001b[39mtest_id)             \n\u001b[1;32m      3\u001b[0m bubl_score_train\u001b[38;5;241m.\u001b[39mto_csv(\u001b[38;5;124m'\u001b[39m\u001b[38;5;124m../output/bubl_score_train.csv\u001b[39m\u001b[38;5;124m'\u001b[39m)\n",
      "\u001b[0;31mNameError\u001b[0m: name 'pd' is not defined"
     ]
    }
   ],
   "source": [
    "bubl_score_train = pd.DataFrame({'bubl_score':oof_preds}, index=trn_id)\n",
    "bubl_score_test = pd.DataFrame({'bubl_score':sub_preds}, index=test_id)             \n",
    "bubl_score_train.to_csv('../output/bubl_score_train.csv')\n",
    "bubl_score_test.to_csv('../output/bubl_score_test.csv')"
   ]
  }
 ],
 "metadata": {
  "kernelspec": {
   "display_name": "tf26",
   "language": "python",
   "name": "python3"
  },
  "language_info": {
   "codemirror_mode": {
    "name": "ipython",
    "version": 3
   },
   "file_extension": ".py",
   "mimetype": "text/x-python",
   "name": "python",
   "nbconvert_exporter": "python",
   "pygments_lexer": "ipython3",
   "version": "3.9.0"
  }
 },
 "nbformat": 4,
 "nbformat_minor": 1
}
